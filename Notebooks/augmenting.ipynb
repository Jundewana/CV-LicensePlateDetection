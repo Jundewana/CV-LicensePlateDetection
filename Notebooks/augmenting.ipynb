{
 "cells": [
  {
   "cell_type": "code",
   "execution_count": 4,
   "metadata": {},
   "outputs": [
    {
     "name": "stderr",
     "output_type": "stream",
     "text": [
      "C:\\Users\\Andakara\\AppData\\Local\\Temp\\ipykernel_84988\\1094033087.py:7: DeprecationWarning: 'imghdr' is deprecated and slated for removal in Python 3.13\n",
      "  import imghdr\n"
     ]
    }
   ],
   "source": [
    "import os\n",
    "import cv2\n",
    "import random\n",
    "import numpy as np\n",
    "import albumentations as A\n",
    "from albumentations.core.composition import OneOf\n",
    "import imghdr"
   ]
  },
  {
   "cell_type": "code",
   "execution_count": null,
   "metadata": {},
   "outputs": [],
   "source": [
    "def count_images_in_folder(folder_path):\n",
    "    \"\"\"\n",
    "    Count the total number of image files in a folder.\n",
    "\n",
    "    Parameters:\n",
    "    - folder_path (str): Path to the folder to search for images.\n",
    "\n",
    "    Returns:\n",
    "    - int: The total number of image files in the folder.\n",
    "    \"\"\"\n",
    "    image_count = 0\n",
    "    supported_formats = {'jpeg', 'png', 'gif', 'bmp', 'tiff', 'webp'} \n",
    "    \n",
    "    for root, _, files in os.walk(folder_path):\n",
    "        for file in files:\n",
    "            file_path = os.path.join(root, file)\n",
    "            if imghdr.what(file_path) in supported_formats:\n",
    "                image_count += 1\n",
    "\n",
    "    return image_count"
   ]
  },
  {
   "cell_type": "code",
   "execution_count": null,
   "metadata": {},
   "outputs": [
    {
     "name": "stdout",
     "output_type": "stream",
     "text": [
      "Total number of images in the folder: 327\n"
     ]
    }
   ],
   "source": [
    "folder_path = \"./data/raw/Arjun\" \n",
    "total_images = count_images_in_folder(folder_path)\n",
    "print(f\"Total number of images in the folder: {total_images}\")"
   ]
  },
  {
   "cell_type": "code",
   "execution_count": null,
   "metadata": {},
   "outputs": [],
   "source": [
    "def seed_everything(seed=42):\n",
    "    \"\"\"Seed all random generators to ensure reproducibility.\"\"\"\n",
    "    random.seed(seed)\n",
    "    np.random.seed(seed)\n",
    "\n",
    "def load_images_from_folder(folder_path):\n",
    "    \"\"\"Load all images from a folder.\"\"\"\n",
    "    images = []\n",
    "    for filename in os.listdir(folder_path):\n",
    "        if filename.lower().endswith(('.png', '.jpg', '.jpeg')):\n",
    "            images.append(os.path.join(folder_path, filename))\n",
    "    return images\n",
    "\n",
    "def save_image(output_folder, image, start_number):\n",
    "    \"\"\"Save the image with sequential numbering as the filename.\"\"\"\n",
    "    filename = os.path.join(output_folder, f\"{start_number}.jpg\")\n",
    "    cv2.imwrite(filename, image)\n",
    "    return start_number + 1\n",
    "\n",
    "def augment_images(input_folder, output_folder, target_count, starting_number=1, seed=42):\n",
    "    \"\"\"Augment images and save them sequentially until the target count is reached.\"\"\"\n",
    "    seed_everything(seed)\n",
    "    \n",
    "    images = load_images_from_folder(input_folder)\n",
    "    if not images:\n",
    "        print(\"No images found in the folder!\")\n",
    "        return\n",
    "\n",
    "    augmentations = A.Compose([\n",
    "        A.HorizontalFlip(p=0.5),\n",
    "        A.ShiftScaleRotate(shift_limit=0.05, scale_limit=0.1, rotate_limit=10, p=0.5),\n",
    "        \n",
    "        OneOf([\n",
    "            A.Perspective(scale=(0.05, 0.1), p=0.3),\n",
    "            A.GridDistortion(p=0.3)\n",
    "        ], p=0.5),\n",
    "\n",
    "        OneOf([\n",
    "            A.RandomBrightnessContrast(p=0.2),\n",
    "            A.HueSaturationValue(hue_shift_limit=10, sat_shift_limit=10, val_shift_limit=10, p=0.2),\n",
    "            A.CLAHE(clip_limit=4.0, tile_grid_size=(8, 8), p=0.3),\n",
    "        ], p=0.4),\n",
    "\n",
    "    ])\n",
    "\n",
    "\n",
    "    current_count = len(images)\n",
    "    start_number = starting_number\n",
    "\n",
    "    while current_count < target_count:\n",
    "        image_path = random.choice(images)\n",
    "        image = cv2.imread(image_path)\n",
    "\n",
    "        if image is None:\n",
    "            print(f\"Failed to load image: {image_path}\")\n",
    "            continue\n",
    "\n",
    "        augmented = augmentations(image=image)\n",
    "        augmented_image = augmented[\"image\"]\n",
    "\n",
    "        # Convert polygons to bounding boxes if needed\n",
    "        if 'polygons' in augmented:\n",
    "            augmented['bboxes'] = convert_polygons_to_bboxes(augmented['polygons'])\n",
    "\n",
    "        start_number = save_image(output_folder, augmented_image, start_number)\n",
    "        current_count += 1\n",
    "\n",
    "    print(f\"Augmented dataset expanded to {current_count} images.\")"
   ]
  },
  {
   "cell_type": "code",
   "execution_count": null,
   "metadata": {},
   "outputs": [
    {
     "name": "stdout",
     "output_type": "stream",
     "text": [
      "Augmented dataset expanded to 421 images.\n"
     ]
    }
   ],
   "source": [
    "input_folder = \"./data/raw/Wildan\" \n",
    "output_folder = \"./data/augmented/Wildan\"  \n",
    "target_count = 421  \n",
    "starting_number = 163 \n",
    "\n",
    "augment_images(input_folder, output_folder, target_count, starting_number)"
   ]
  },
  {
   "cell_type": "code",
   "execution_count": null,
   "metadata": {},
   "outputs": [
    {
     "name": "stdout",
     "output_type": "stream",
     "text": [
      "Augmented dataset expanded to 620 images.\n"
     ]
    }
   ],
   "source": [
    "input_folder = \"./data/raw/Arjun\"  \n",
    "output_folder = \"./data/augmented/Arjun\"  \n",
    "target_count = 620  \n",
    "starting_number = 661 \n",
    "\n",
    "augment_images(input_folder, output_folder, target_count, starting_number)"
   ]
  },
  {
   "cell_type": "code",
   "execution_count": 10,
   "metadata": {},
   "outputs": [],
   "source": [
    "def extractImages(pathIn, pathOut, baseFilename):\n",
    "    count = 0\n",
    "    vidcap = cv2.VideoCapture(pathIn)\n",
    "    if not vidcap.isOpened():\n",
    "        print(f\"Error: Could not open video file {pathIn}\")\n",
    "        return\n",
    "    \n",
    "    success, image = vidcap.read()\n",
    "    while success:\n",
    "        vidcap.set(cv2.CAP_PROP_POS_MSEC, (count * 1000)) \n",
    "        success, image = vidcap.read()\n",
    "        if not success:\n",
    "            print(f\"Error: Could not read frame at {count * 1000} ms\")\n",
    "            break\n",
    "        if image is None:\n",
    "            print(f\"Error: Frame at {count * 1000} ms is empty\")\n",
    "            break\n",
    "        print('Read a new frame: ', success)\n",
    "        cv2.imwrite(f\"{pathOut}/{baseFilename}_frame{count}.jpg\", image)  \n",
    "        count += 1\n",
    "\n",
    "def processAllVideos(folderIn, folderOut):\n",
    "    for filename in os.listdir(folderIn):\n",
    "        if filename.endswith(\".mp4\"):\n",
    "            pathIn = os.path.join(folderIn, filename)\n",
    "            baseFilename = os.path.splitext(filename)[0]\n",
    "            extractImages(pathIn, folderOut, baseFilename)\n"
   ]
  },
  {
   "cell_type": "code",
   "execution_count": null,
   "metadata": {},
   "outputs": [
    {
     "name": "stdout",
     "output_type": "stream",
     "text": [
      "Read a new frame:  True\n",
      "Read a new frame:  True\n",
      "Read a new frame:  True\n",
      "Read a new frame:  True\n",
      "Read a new frame:  True\n",
      "Read a new frame:  True\n",
      "Read a new frame:  True\n",
      "Read a new frame:  True\n",
      "Read a new frame:  True\n",
      "Read a new frame:  True\n",
      "Read a new frame:  True\n",
      "Read a new frame:  True\n",
      "Read a new frame:  True\n",
      "Read a new frame:  True\n",
      "Read a new frame:  True\n",
      "Read a new frame:  True\n",
      "Read a new frame:  True\n",
      "Read a new frame:  True\n",
      "Read a new frame:  True\n",
      "Read a new frame:  True\n",
      "Error: Could not read frame at 20000 ms\n",
      "Read a new frame:  True\n",
      "Read a new frame:  True\n",
      "Read a new frame:  True\n",
      "Read a new frame:  True\n",
      "Read a new frame:  True\n",
      "Read a new frame:  True\n",
      "Error: Could not read frame at 6000 ms\n",
      "Read a new frame:  True\n",
      "Read a new frame:  True\n",
      "Read a new frame:  True\n",
      "Read a new frame:  True\n",
      "Read a new frame:  True\n",
      "Read a new frame:  True\n",
      "Read a new frame:  True\n",
      "Read a new frame:  True\n",
      "Error: Could not read frame at 8000 ms\n",
      "Read a new frame:  True\n",
      "Read a new frame:  True\n",
      "Read a new frame:  True\n",
      "Read a new frame:  True\n",
      "Read a new frame:  True\n",
      "Read a new frame:  True\n",
      "Read a new frame:  True\n",
      "Read a new frame:  True\n",
      "Read a new frame:  True\n",
      "Read a new frame:  True\n",
      "Read a new frame:  True\n",
      "Read a new frame:  True\n",
      "Read a new frame:  True\n",
      "Read a new frame:  True\n",
      "Error: Could not read frame at 14000 ms\n",
      "Read a new frame:  True\n",
      "Read a new frame:  True\n",
      "Read a new frame:  True\n",
      "Read a new frame:  True\n",
      "Read a new frame:  True\n",
      "Read a new frame:  True\n",
      "Read a new frame:  True\n",
      "Read a new frame:  True\n",
      "Read a new frame:  True\n",
      "Read a new frame:  True\n",
      "Read a new frame:  True\n",
      "Read a new frame:  True\n",
      "Read a new frame:  True\n",
      "Read a new frame:  True\n",
      "Error: Could not read frame at 14000 ms\n",
      "Read a new frame:  True\n",
      "Read a new frame:  True\n",
      "Read a new frame:  True\n",
      "Read a new frame:  True\n",
      "Read a new frame:  True\n",
      "Read a new frame:  True\n",
      "Read a new frame:  True\n",
      "Read a new frame:  True\n",
      "Read a new frame:  True\n",
      "Read a new frame:  True\n",
      "Read a new frame:  True\n",
      "Read a new frame:  True\n",
      "Read a new frame:  True\n",
      "Read a new frame:  True\n",
      "Read a new frame:  True\n",
      "Error: Could not read frame at 15000 ms\n",
      "Read a new frame:  True\n",
      "Read a new frame:  True\n",
      "Read a new frame:  True\n",
      "Read a new frame:  True\n",
      "Read a new frame:  True\n",
      "Read a new frame:  True\n",
      "Read a new frame:  True\n",
      "Read a new frame:  True\n",
      "Error: Could not read frame at 8000 ms\n",
      "Read a new frame:  True\n",
      "Read a new frame:  True\n",
      "Read a new frame:  True\n",
      "Read a new frame:  True\n",
      "Read a new frame:  True\n",
      "Read a new frame:  True\n",
      "Read a new frame:  True\n",
      "Read a new frame:  True\n",
      "Read a new frame:  True\n",
      "Read a new frame:  True\n",
      "Error: Could not read frame at 10000 ms\n"
     ]
    }
   ],
   "source": [
    "folderIn = \"./data/raw/Andakara/video\"\n",
    "folderOut = \"./data/raw/Andakara\"\n",
    "processAllVideos(folderIn, folderOut)"
   ]
  },
  {
   "cell_type": "code",
   "execution_count": null,
   "metadata": {},
   "outputs": [
    {
     "name": "stdout",
     "output_type": "stream",
     "text": [
      "Total number of images in the folder: 169\n"
     ]
    }
   ],
   "source": [
    "folder_path = \"./data/raw/Andakara\"  \n",
    "total_images = count_images_in_folder(folder_path)\n",
    "print(f\"Total number of images in the folder: {total_images}\")"
   ]
  },
  {
   "cell_type": "code",
   "execution_count": null,
   "metadata": {},
   "outputs": [
    {
     "name": "stdout",
     "output_type": "stream",
     "text": [
      "Augmented dataset expanded to 200 images.\n"
     ]
    }
   ],
   "source": [
    "input_folder = \"./data/raw/Andakara\"  \n",
    "output_folder = \"./data/augmented/Andakara\"  \n",
    "target_count =  200\n",
    "starting_number = 954\n",
    "\n",
    "augment_images(input_folder, output_folder, target_count, starting_number)"
   ]
  },
  {
   "cell_type": "code",
   "execution_count": 11,
   "metadata": {},
   "outputs": [
    {
     "name": "stdout",
     "output_type": "stream",
     "text": [
      "Read a new frame:  True\n",
      "Read a new frame:  True\n",
      "Read a new frame:  True\n",
      "Read a new frame:  True\n",
      "Read a new frame:  True\n",
      "Read a new frame:  True\n",
      "Read a new frame:  True\n",
      "Read a new frame:  True\n",
      "Read a new frame:  True\n",
      "Read a new frame:  True\n",
      "Read a new frame:  True\n",
      "Read a new frame:  True\n",
      "Read a new frame:  True\n",
      "Read a new frame:  True\n",
      "Error: Could not read frame at 14000 ms\n",
      "Read a new frame:  True\n",
      "Read a new frame:  True\n",
      "Read a new frame:  True\n",
      "Read a new frame:  True\n",
      "Read a new frame:  True\n",
      "Read a new frame:  True\n",
      "Read a new frame:  True\n",
      "Read a new frame:  True\n",
      "Read a new frame:  True\n",
      "Read a new frame:  True\n",
      "Read a new frame:  True\n",
      "Read a new frame:  True\n",
      "Read a new frame:  True\n",
      "Error: Could not read frame at 13000 ms\n"
     ]
    }
   ],
   "source": [
    "folderIn = \"./data/raw/Andakara/video/2\"\n",
    "folderOut = \"./data/raw/Andakara\"\n",
    "processAllVideos(folderIn, folderOut)"
   ]
  },
  {
   "cell_type": "code",
   "execution_count": 15,
   "metadata": {},
   "outputs": [],
   "source": [
    "model_dir = \"./data/augmented/Arjun\"\n",
    "if os.path.isdir(model_dir):\n",
    "    for i, filename in enumerate(os.listdir(model_dir), start=1211):\n",
    "        old_filename = os.path.join(model_dir, filename)\n",
    "        new_filename = os.path.join(model_dir, f\"{i}.png\")\n",
    "        if os.path.exists(new_filename):\n",
    "            os.remove(new_filename)\n",
    "        if os.path.exists(old_filename):\n",
    "            os.rename(old_filename, new_filename)\n",
    "        else:\n",
    "            print(f\"File not found: {old_filename}\")"
   ]
  }
 ],
 "metadata": {
  "kernelspec": {
   "display_name": ".sca-license-plate-detection-2-venv",
   "language": "python",
   "name": "python3"
  },
  "language_info": {
   "codemirror_mode": {
    "name": "ipython",
    "version": 3
   },
   "file_extension": ".py",
   "mimetype": "text/x-python",
   "name": "python",
   "nbconvert_exporter": "python",
   "pygments_lexer": "ipython3",
   "version": "3.12.6"
  }
 },
 "nbformat": 4,
 "nbformat_minor": 2
}
