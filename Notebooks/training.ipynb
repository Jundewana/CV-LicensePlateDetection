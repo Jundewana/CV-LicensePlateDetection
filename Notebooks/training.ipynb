{
 "cells": [
  {
   "cell_type": "code",
   "execution_count": 1,
   "metadata": {},
   "outputs": [
    {
     "name": "stdout",
     "output_type": "stream",
     "text": [
      "loading Roboflow workspace...\n",
      "loading Roboflow project...\n"
     ]
    },
    {
     "name": "stderr",
     "output_type": "stream",
     "text": [
      "Downloading Dataset Version Zip in SCA---Kel.-3---Tugas-P12-3 to yolov8:: 100%|██████████| 53780/53780 [01:19<00:00, 675.03it/s] "
     ]
    },
    {
     "name": "stdout",
     "output_type": "stream",
     "text": [
      "\n"
     ]
    },
    {
     "name": "stderr",
     "output_type": "stream",
     "text": [
      "\n",
      "Extracting Dataset Version Zip to SCA---Kel.-3---Tugas-P12-3 in yolov8:: 100%|██████████| 2308/2308 [00:00<00:00, 2396.30it/s]\n"
     ]
    }
   ],
   "source": [
    "# !pip install roboflow\n",
    "\n",
    "from roboflow import Roboflow\n",
    "rf = Roboflow(api_key=\"Fo9HQJW3695XWsuyPt2k\")\n",
    "project = rf.workspace(\"general-pdvg1\").project(\"sca-kel.-3-tugas-p12\")\n",
    "version = project.version(3)\n",
    "dataset = version.download(\"yolov8\")"
   ]
  },
  {
   "cell_type": "code",
   "execution_count": 5,
   "metadata": {},
   "outputs": [
    {
     "name": "stdout",
     "output_type": "stream",
     "text": [
      "        1 dir(s) moved.\n"
     ]
    }
   ],
   "source": [
    "!move SCA---Kel.-3---Tugas-P12-3 datasets"
   ]
  },
  {
   "cell_type": "code",
   "execution_count": 6,
   "metadata": {},
   "outputs": [],
   "source": [
    "import torch\n",
    "import os"
   ]
  },
  {
   "cell_type": "code",
   "execution_count": 7,
   "metadata": {},
   "outputs": [
    {
     "data": {
      "text/plain": [
       "True"
      ]
     },
     "execution_count": 7,
     "metadata": {},
     "output_type": "execute_result"
    }
   ],
   "source": [
    "torch.cuda.is_available()"
   ]
  },
  {
   "cell_type": "code",
   "execution_count": 8,
   "metadata": {},
   "outputs": [
    {
     "name": "stdout",
     "output_type": "stream",
     "text": [
      "Tue Nov 26 09:08:13 2024       \n",
      "+-----------------------------------------------------------------------------------------+\n",
      "| NVIDIA-SMI 561.03                 Driver Version: 561.03         CUDA Version: 12.6     |\n",
      "|-----------------------------------------+------------------------+----------------------+\n",
      "| GPU  Name                  Driver-Model | Bus-Id          Disp.A | Volatile Uncorr. ECC |\n",
      "| Fan  Temp   Perf          Pwr:Usage/Cap |           Memory-Usage | GPU-Util  Compute M. |\n",
      "|                                         |                        |               MIG M. |\n",
      "|=========================================+========================+======================|\n",
      "|   0  NVIDIA GeForce RTX 4060 ...  WDDM  |   00000000:01:00.0 Off |                  N/A |\n",
      "| N/A   45C    P0             13W /   80W |       0MiB /   8188MiB |      0%      Default |\n",
      "|                                         |                        |                  N/A |\n",
      "+-----------------------------------------+------------------------+----------------------+\n",
      "                                                                                         \n",
      "+-----------------------------------------------------------------------------------------+\n",
      "| Processes:                                                                              |\n",
      "|  GPU   GI   CI        PID   Type   Process name                              GPU Memory |\n",
      "|        ID   ID                                                               Usage      |\n",
      "|=========================================================================================|\n",
      "|  No running processes found                                                             |\n",
      "+-----------------------------------------------------------------------------------------+\n"
     ]
    }
   ],
   "source": [
    "!nvidia-smi"
   ]
  },
  {
   "cell_type": "code",
   "execution_count": 9,
   "metadata": {},
   "outputs": [],
   "source": [
    "from ultralytics import YOLO"
   ]
  },
  {
   "cell_type": "code",
   "execution_count": 10,
   "metadata": {},
   "outputs": [],
   "source": [
    "torch.cuda.empty_cache()"
   ]
  },
  {
   "cell_type": "code",
   "execution_count": 11,
   "metadata": {},
   "outputs": [
    {
     "name": "stdout",
     "output_type": "stream",
     "text": [
      "Downloading https://github.com/ultralytics/assets/releases/download/v8.3.0/yolov8n.pt to 'yolov8n.pt'...\n"
     ]
    },
    {
     "name": "stderr",
     "output_type": "stream",
     "text": [
      "100%|██████████| 6.25M/6.25M [00:07<00:00, 867kB/s] "
     ]
    },
    {
     "name": "stdout",
     "output_type": "stream",
     "text": [
      "Transferred 355/355 items from pretrained weights\n"
     ]
    },
    {
     "name": "stderr",
     "output_type": "stream",
     "text": [
      "\n"
     ]
    },
    {
     "name": "stdout",
     "output_type": "stream",
     "text": [
      "Ultralytics 8.3.37  Python-3.12.6 torch-2.5.1+cu118 CUDA:0 (NVIDIA GeForce RTX 4060 Laptop GPU, 8188MiB)\n",
      "\u001b[34m\u001b[1mengine\\trainer: \u001b[0mtask=detect, mode=train, model=yolov8n.yaml, data=./datasets/data.yaml, epochs=100, time=None, patience=15, batch=16, imgsz=640, save=True, save_period=-1, cache=False, device=0, workers=8, project=None, name=train, exist_ok=False, pretrained=yolov8n.pt, optimizer=auto, verbose=True, seed=0, deterministic=True, single_cls=False, rect=False, cos_lr=False, close_mosaic=10, resume=False, amp=True, fraction=1.0, profile=False, freeze=None, multi_scale=False, overlap_mask=True, mask_ratio=4, dropout=0.0, val=True, split=val, save_json=False, save_hybrid=False, conf=None, iou=0.7, max_det=300, half=False, dnn=False, plots=True, source=None, vid_stride=1, stream_buffer=False, visualize=False, augment=False, agnostic_nms=False, classes=None, retina_masks=False, embed=None, show=False, save_frames=False, save_txt=False, save_conf=False, save_crop=False, show_labels=True, show_conf=True, show_boxes=True, line_width=None, format=torchscript, keras=False, optimize=False, int8=False, dynamic=False, simplify=True, opset=None, workspace=None, nms=False, lr0=0.01, lrf=0.01, momentum=0.937, weight_decay=0.0005, warmup_epochs=3.0, warmup_momentum=0.8, warmup_bias_lr=0.1, box=7.5, cls=0.5, dfl=1.5, pose=12.0, kobj=1.0, label_smoothing=0.0, nbs=64, hsv_h=0.015, hsv_s=0.7, hsv_v=0.4, degrees=0.0, translate=0.1, scale=0.5, shear=0.0, perspective=0.0, flipud=0.0, fliplr=0.5, bgr=0.0, mosaic=1.0, mixup=0.0, copy_paste=0.0, copy_paste_mode=flip, auto_augment=randaugment, erasing=0.4, crop_fraction=1.0, cfg=None, tracker=botsort.yaml, save_dir=runs\\detect\\train\n",
      "Overriding model.yaml nc=80 with nc=1\n",
      "\n",
      "                   from  n    params  module                                       arguments                     \n",
      "  0                  -1  1       464  ultralytics.nn.modules.conv.Conv             [3, 16, 3, 2]                 \n",
      "  1                  -1  1      4672  ultralytics.nn.modules.conv.Conv             [16, 32, 3, 2]                \n",
      "  2                  -1  1      7360  ultralytics.nn.modules.block.C2f             [32, 32, 1, True]             \n",
      "  3                  -1  1     18560  ultralytics.nn.modules.conv.Conv             [32, 64, 3, 2]                \n",
      "  4                  -1  2     49664  ultralytics.nn.modules.block.C2f             [64, 64, 2, True]             \n",
      "  5                  -1  1     73984  ultralytics.nn.modules.conv.Conv             [64, 128, 3, 2]               \n",
      "  6                  -1  2    197632  ultralytics.nn.modules.block.C2f             [128, 128, 2, True]           \n",
      "  7                  -1  1    295424  ultralytics.nn.modules.conv.Conv             [128, 256, 3, 2]              \n",
      "  8                  -1  1    460288  ultralytics.nn.modules.block.C2f             [256, 256, 1, True]           \n",
      "  9                  -1  1    164608  ultralytics.nn.modules.block.SPPF            [256, 256, 5]                 \n",
      " 10                  -1  1         0  torch.nn.modules.upsampling.Upsample         [None, 2, 'nearest']          \n",
      " 11             [-1, 6]  1         0  ultralytics.nn.modules.conv.Concat           [1]                           \n",
      " 12                  -1  1    148224  ultralytics.nn.modules.block.C2f             [384, 128, 1]                 \n",
      " 13                  -1  1         0  torch.nn.modules.upsampling.Upsample         [None, 2, 'nearest']          \n",
      " 14             [-1, 4]  1         0  ultralytics.nn.modules.conv.Concat           [1]                           \n",
      " 15                  -1  1     37248  ultralytics.nn.modules.block.C2f             [192, 64, 1]                  \n",
      " 16                  -1  1     36992  ultralytics.nn.modules.conv.Conv             [64, 64, 3, 2]                \n",
      " 17            [-1, 12]  1         0  ultralytics.nn.modules.conv.Concat           [1]                           \n",
      " 18                  -1  1    123648  ultralytics.nn.modules.block.C2f             [192, 128, 1]                 \n",
      " 19                  -1  1    147712  ultralytics.nn.modules.conv.Conv             [128, 128, 3, 2]              \n",
      " 20             [-1, 9]  1         0  ultralytics.nn.modules.conv.Concat           [1]                           \n",
      " 21                  -1  1    493056  ultralytics.nn.modules.block.C2f             [384, 256, 1]                 \n",
      " 22        [15, 18, 21]  1    751507  ultralytics.nn.modules.head.Detect           [1, [64, 128, 256]]           \n",
      "YOLOv8n summary: 225 layers, 3,011,043 parameters, 3,011,027 gradients, 8.2 GFLOPs\n",
      "\n",
      "Transferred 319/355 items from pretrained weights\n",
      "Freezing layer 'model.22.dfl.conv.weight'\n",
      "\u001b[34m\u001b[1mAMP: \u001b[0mrunning Automatic Mixed Precision (AMP) checks...\n",
      "Downloading https://github.com/ultralytics/assets/releases/download/v8.3.0/yolo11n.pt to 'yolo11n.pt'...\n"
     ]
    },
    {
     "name": "stderr",
     "output_type": "stream",
     "text": [
      "100%|██████████| 5.35M/5.35M [00:05<00:00, 1.04MB/s]\n"
     ]
    },
    {
     "name": "stdout",
     "output_type": "stream",
     "text": [
      "\u001b[34m\u001b[1mAMP: \u001b[0mchecks passed \n"
     ]
    },
    {
     "name": "stderr",
     "output_type": "stream",
     "text": [
      "\u001b[34m\u001b[1mtrain: \u001b[0mScanning D:\\Grinding\\Machine Learning\\SCA\\sca-license-plate-detection\\datasets\\train\\labels... 689 images, 7 backgrounds, 0 corrupt: 100%|██████████| 689/689 [00:00<00:00, 1283.49it/s]"
     ]
    },
    {
     "name": "stdout",
     "output_type": "stream",
     "text": [
      "\u001b[34m\u001b[1mtrain: \u001b[0mNew cache created: D:\\Grinding\\Machine Learning\\SCA\\sca-license-plate-detection\\datasets\\train\\labels.cache\n"
     ]
    },
    {
     "name": "stderr",
     "output_type": "stream",
     "text": [
      "\n"
     ]
    },
    {
     "name": "stdout",
     "output_type": "stream",
     "text": [
      "WARNING  Box and segment counts should be equal, but got len(segments) = 23, len(boxes) = 789. To resolve this only boxes will be used and all segments will be removed. To avoid this please supply either a detect or segment dataset, not a detect-segment mixed dataset.\n"
     ]
    },
    {
     "name": "stderr",
     "output_type": "stream",
     "text": [
      "\u001b[34m\u001b[1mval: \u001b[0mScanning D:\\Grinding\\Machine Learning\\SCA\\sca-license-plate-detection\\datasets\\valid\\labels... 230 images, 4 backgrounds, 0 corrupt: 100%|██████████| 230/230 [00:00<00:00, 545.72it/s]"
     ]
    },
    {
     "name": "stdout",
     "output_type": "stream",
     "text": [
      "\u001b[34m\u001b[1mval: \u001b[0mNew cache created: D:\\Grinding\\Machine Learning\\SCA\\sca-license-plate-detection\\datasets\\valid\\labels.cache\n",
      "WARNING  Box and segment counts should be equal, but got len(segments) = 6, len(boxes) = 257. To resolve this only boxes will be used and all segments will be removed. To avoid this please supply either a detect or segment dataset, not a detect-segment mixed dataset.\n"
     ]
    },
    {
     "name": "stderr",
     "output_type": "stream",
     "text": [
      "\n"
     ]
    },
    {
     "name": "stdout",
     "output_type": "stream",
     "text": [
      "Plotting labels to runs\\detect\\train\\labels.jpg... \n",
      "\u001b[34m\u001b[1moptimizer:\u001b[0m 'optimizer=auto' found, ignoring 'lr0=0.01' and 'momentum=0.937' and determining best 'optimizer', 'lr0' and 'momentum' automatically... \n",
      "\u001b[34m\u001b[1moptimizer:\u001b[0m AdamW(lr=0.002, momentum=0.9) with parameter groups 57 weight(decay=0.0), 64 weight(decay=0.0005), 63 bias(decay=0.0)\n",
      "Image sizes 640 train, 640 val\n",
      "Using 8 dataloader workers\n",
      "Logging results to \u001b[1mruns\\detect\\train\u001b[0m\n",
      "Starting training for 100 epochs...\n",
      "\n",
      "      Epoch    GPU_mem   box_loss   cls_loss   dfl_loss  Instances       Size\n"
     ]
    },
    {
     "name": "stderr",
     "output_type": "stream",
     "text": [
      "      1/100      2.11G      1.342      2.524      1.277          2        640: 100%|██████████| 44/44 [00:07<00:00,  5.90it/s]\n",
      "                 Class     Images  Instances      Box(P          R      mAP50  mAP50-95): 100%|██████████| 8/8 [00:01<00:00,  5.47it/s]"
     ]
    },
    {
     "name": "stdout",
     "output_type": "stream",
     "text": [
      "                   all        230        257     0.0028      0.751     0.0517     0.0214\n"
     ]
    },
    {
     "name": "stderr",
     "output_type": "stream",
     "text": [
      "\n"
     ]
    },
    {
     "name": "stdout",
     "output_type": "stream",
     "text": [
      "\n",
      "      Epoch    GPU_mem   box_loss   cls_loss   dfl_loss  Instances       Size\n"
     ]
    },
    {
     "name": "stderr",
     "output_type": "stream",
     "text": [
      "      2/100      2.11G      1.328      1.833      1.226          1        640: 100%|██████████| 44/44 [00:05<00:00,  7.87it/s]\n",
      "                 Class     Images  Instances      Box(P          R      mAP50  mAP50-95): 100%|██████████| 8/8 [00:01<00:00,  6.16it/s]"
     ]
    },
    {
     "name": "stdout",
     "output_type": "stream",
     "text": [
      "                   all        230        257      0.797      0.634      0.713      0.399\n"
     ]
    },
    {
     "name": "stderr",
     "output_type": "stream",
     "text": [
      "\n"
     ]
    },
    {
     "name": "stdout",
     "output_type": "stream",
     "text": [
      "\n",
      "      Epoch    GPU_mem   box_loss   cls_loss   dfl_loss  Instances       Size\n"
     ]
    },
    {
     "name": "stderr",
     "output_type": "stream",
     "text": [
      "      3/100       2.1G      1.348      1.641      1.252          2        640: 100%|██████████| 44/44 [00:05<00:00,  8.22it/s]\n",
      "                 Class     Images  Instances      Box(P          R      mAP50  mAP50-95): 100%|██████████| 8/8 [00:01<00:00,  6.30it/s]"
     ]
    },
    {
     "name": "stdout",
     "output_type": "stream",
     "text": [
      "                   all        230        257       0.54      0.525      0.485       0.25\n"
     ]
    },
    {
     "name": "stderr",
     "output_type": "stream",
     "text": [
      "\n"
     ]
    },
    {
     "name": "stdout",
     "output_type": "stream",
     "text": [
      "\n",
      "      Epoch    GPU_mem   box_loss   cls_loss   dfl_loss  Instances       Size\n"
     ]
    },
    {
     "name": "stderr",
     "output_type": "stream",
     "text": [
      "      4/100      2.12G      1.373      1.502       1.29          1        640: 100%|██████████| 44/44 [00:05<00:00,  8.17it/s]\n",
      "                 Class     Images  Instances      Box(P          R      mAP50  mAP50-95): 100%|██████████| 8/8 [00:01<00:00,  6.69it/s]"
     ]
    },
    {
     "name": "stdout",
     "output_type": "stream",
     "text": [
      "                   all        230        257      0.837      0.743      0.824      0.477\n"
     ]
    },
    {
     "name": "stderr",
     "output_type": "stream",
     "text": [
      "\n"
     ]
    },
    {
     "name": "stdout",
     "output_type": "stream",
     "text": [
      "\n",
      "      Epoch    GPU_mem   box_loss   cls_loss   dfl_loss  Instances       Size\n"
     ]
    },
    {
     "name": "stderr",
     "output_type": "stream",
     "text": [
      "      5/100      2.12G      1.367      1.288      1.242          1        640: 100%|██████████| 44/44 [00:05<00:00,  8.39it/s]\n",
      "                 Class     Images  Instances      Box(P          R      mAP50  mAP50-95): 100%|██████████| 8/8 [00:01<00:00,  6.50it/s]"
     ]
    },
    {
     "name": "stdout",
     "output_type": "stream",
     "text": [
      "                   all        230        257      0.803      0.747      0.824      0.509\n"
     ]
    },
    {
     "name": "stderr",
     "output_type": "stream",
     "text": [
      "\n"
     ]
    },
    {
     "name": "stdout",
     "output_type": "stream",
     "text": [
      "\n",
      "      Epoch    GPU_mem   box_loss   cls_loss   dfl_loss  Instances       Size\n"
     ]
    },
    {
     "name": "stderr",
     "output_type": "stream",
     "text": [
      "      6/100      2.12G      1.299      1.201      1.214          1        640: 100%|██████████| 44/44 [00:05<00:00,  8.48it/s]\n",
      "                 Class     Images  Instances      Box(P          R      mAP50  mAP50-95): 100%|██████████| 8/8 [00:01<00:00,  6.58it/s]"
     ]
    },
    {
     "name": "stdout",
     "output_type": "stream",
     "text": [
      "                   all        230        257      0.745      0.755      0.823      0.454\n"
     ]
    },
    {
     "name": "stderr",
     "output_type": "stream",
     "text": [
      "\n"
     ]
    },
    {
     "name": "stdout",
     "output_type": "stream",
     "text": [
      "\n",
      "      Epoch    GPU_mem   box_loss   cls_loss   dfl_loss  Instances       Size\n"
     ]
    },
    {
     "name": "stderr",
     "output_type": "stream",
     "text": [
      "      7/100      2.12G      1.252      1.088      1.207          4        640: 100%|██████████| 44/44 [00:05<00:00,  8.42it/s]\n",
      "                 Class     Images  Instances      Box(P          R      mAP50  mAP50-95): 100%|██████████| 8/8 [00:01<00:00,  6.72it/s]"
     ]
    },
    {
     "name": "stdout",
     "output_type": "stream",
     "text": [
      "                   all        230        257      0.828      0.837      0.882      0.565\n"
     ]
    },
    {
     "name": "stderr",
     "output_type": "stream",
     "text": [
      "\n"
     ]
    },
    {
     "name": "stdout",
     "output_type": "stream",
     "text": [
      "\n",
      "      Epoch    GPU_mem   box_loss   cls_loss   dfl_loss  Instances       Size\n"
     ]
    },
    {
     "name": "stderr",
     "output_type": "stream",
     "text": [
      "      8/100      2.12G      1.258       1.06        1.2          5        640: 100%|██████████| 44/44 [00:05<00:00,  8.41it/s]\n",
      "                 Class     Images  Instances      Box(P          R      mAP50  mAP50-95): 100%|██████████| 8/8 [00:01<00:00,  6.60it/s]"
     ]
    },
    {
     "name": "stdout",
     "output_type": "stream",
     "text": [
      "                   all        230        257      0.854      0.843      0.889      0.535\n"
     ]
    },
    {
     "name": "stderr",
     "output_type": "stream",
     "text": [
      "\n"
     ]
    },
    {
     "name": "stdout",
     "output_type": "stream",
     "text": [
      "\n",
      "      Epoch    GPU_mem   box_loss   cls_loss   dfl_loss  Instances       Size\n"
     ]
    },
    {
     "name": "stderr",
     "output_type": "stream",
     "text": [
      "      9/100      2.12G       1.27     0.9892      1.213          2        640: 100%|██████████| 44/44 [00:05<00:00,  8.38it/s]\n",
      "                 Class     Images  Instances      Box(P          R      mAP50  mAP50-95): 100%|██████████| 8/8 [00:01<00:00,  6.70it/s]"
     ]
    },
    {
     "name": "stdout",
     "output_type": "stream",
     "text": [
      "                   all        230        257      0.929      0.866      0.951      0.581\n"
     ]
    },
    {
     "name": "stderr",
     "output_type": "stream",
     "text": [
      "\n"
     ]
    },
    {
     "name": "stdout",
     "output_type": "stream",
     "text": [
      "\n",
      "      Epoch    GPU_mem   box_loss   cls_loss   dfl_loss  Instances       Size\n"
     ]
    },
    {
     "name": "stderr",
     "output_type": "stream",
     "text": [
      "     10/100      2.12G      1.208     0.9185      1.166          5        640: 100%|██████████| 44/44 [00:05<00:00,  8.53it/s]\n",
      "                 Class     Images  Instances      Box(P          R      mAP50  mAP50-95): 100%|██████████| 8/8 [00:01<00:00,  6.49it/s]"
     ]
    },
    {
     "name": "stdout",
     "output_type": "stream",
     "text": [
      "                   all        230        257      0.905      0.934      0.951      0.612\n"
     ]
    },
    {
     "name": "stderr",
     "output_type": "stream",
     "text": [
      "\n"
     ]
    },
    {
     "name": "stdout",
     "output_type": "stream",
     "text": [
      "\n",
      "      Epoch    GPU_mem   box_loss   cls_loss   dfl_loss  Instances       Size\n"
     ]
    },
    {
     "name": "stderr",
     "output_type": "stream",
     "text": [
      "     11/100      2.12G      1.198      0.911      1.167          2        640: 100%|██████████| 44/44 [00:05<00:00,  8.08it/s]\n",
      "                 Class     Images  Instances      Box(P          R      mAP50  mAP50-95): 100%|██████████| 8/8 [00:01<00:00,  6.81it/s]"
     ]
    },
    {
     "name": "stdout",
     "output_type": "stream",
     "text": [
      "                   all        230        257       0.88      0.909      0.952      0.615\n"
     ]
    },
    {
     "name": "stderr",
     "output_type": "stream",
     "text": [
      "\n"
     ]
    },
    {
     "name": "stdout",
     "output_type": "stream",
     "text": [
      "\n",
      "      Epoch    GPU_mem   box_loss   cls_loss   dfl_loss  Instances       Size\n"
     ]
    },
    {
     "name": "stderr",
     "output_type": "stream",
     "text": [
      "     12/100      2.12G      1.199     0.8638      1.169          2        640: 100%|██████████| 44/44 [00:05<00:00,  8.72it/s]\n",
      "                 Class     Images  Instances      Box(P          R      mAP50  mAP50-95): 100%|██████████| 8/8 [00:01<00:00,  7.52it/s]"
     ]
    },
    {
     "name": "stdout",
     "output_type": "stream",
     "text": [
      "                   all        230        257       0.93      0.926      0.956       0.56\n"
     ]
    },
    {
     "name": "stderr",
     "output_type": "stream",
     "text": [
      "\n"
     ]
    },
    {
     "name": "stdout",
     "output_type": "stream",
     "text": [
      "\n",
      "      Epoch    GPU_mem   box_loss   cls_loss   dfl_loss  Instances       Size\n"
     ]
    },
    {
     "name": "stderr",
     "output_type": "stream",
     "text": [
      "     13/100      2.12G      1.184     0.8663      1.176          1        640: 100%|██████████| 44/44 [00:05<00:00,  8.60it/s]\n",
      "                 Class     Images  Instances      Box(P          R      mAP50  mAP50-95): 100%|██████████| 8/8 [00:01<00:00,  7.41it/s]\n"
     ]
    },
    {
     "name": "stdout",
     "output_type": "stream",
     "text": [
      "                   all        230        257      0.906      0.941      0.968      0.636\n",
      "\n",
      "      Epoch    GPU_mem   box_loss   cls_loss   dfl_loss  Instances       Size\n"
     ]
    },
    {
     "name": "stderr",
     "output_type": "stream",
     "text": [
      "     14/100      2.12G      1.132     0.8295      1.125          0        640: 100%|██████████| 44/44 [00:05<00:00,  8.62it/s]\n",
      "                 Class     Images  Instances      Box(P          R      mAP50  mAP50-95): 100%|██████████| 8/8 [00:01<00:00,  6.97it/s]"
     ]
    },
    {
     "name": "stdout",
     "output_type": "stream",
     "text": [
      "                   all        230        257      0.904      0.949      0.969      0.657\n"
     ]
    },
    {
     "name": "stderr",
     "output_type": "stream",
     "text": [
      "\n"
     ]
    },
    {
     "name": "stdout",
     "output_type": "stream",
     "text": [
      "\n",
      "      Epoch    GPU_mem   box_loss   cls_loss   dfl_loss  Instances       Size\n"
     ]
    },
    {
     "name": "stderr",
     "output_type": "stream",
     "text": [
      "     15/100      2.11G      1.191     0.8365      1.159          1        640: 100%|██████████| 44/44 [00:05<00:00,  8.76it/s]\n",
      "                 Class     Images  Instances      Box(P          R      mAP50  mAP50-95): 100%|██████████| 8/8 [00:01<00:00,  7.23it/s]"
     ]
    },
    {
     "name": "stdout",
     "output_type": "stream",
     "text": [
      "                   all        230        257      0.897      0.938      0.967      0.659\n"
     ]
    },
    {
     "name": "stderr",
     "output_type": "stream",
     "text": [
      "\n"
     ]
    },
    {
     "name": "stdout",
     "output_type": "stream",
     "text": [
      "\n",
      "      Epoch    GPU_mem   box_loss   cls_loss   dfl_loss  Instances       Size\n"
     ]
    },
    {
     "name": "stderr",
     "output_type": "stream",
     "text": [
      "     16/100      2.12G      1.134     0.7948      1.118          4        640: 100%|██████████| 44/44 [00:05<00:00,  8.74it/s]\n",
      "                 Class     Images  Instances      Box(P          R      mAP50  mAP50-95): 100%|██████████| 8/8 [00:01<00:00,  7.20it/s]"
     ]
    },
    {
     "name": "stdout",
     "output_type": "stream",
     "text": [
      "                   all        230        257      0.887      0.914      0.935      0.606\n"
     ]
    },
    {
     "name": "stderr",
     "output_type": "stream",
     "text": [
      "\n"
     ]
    },
    {
     "name": "stdout",
     "output_type": "stream",
     "text": [
      "\n",
      "      Epoch    GPU_mem   box_loss   cls_loss   dfl_loss  Instances       Size\n"
     ]
    },
    {
     "name": "stderr",
     "output_type": "stream",
     "text": [
      "     17/100      2.11G      1.139        0.8      1.144          1        640: 100%|██████████| 44/44 [00:05<00:00,  8.55it/s]\n",
      "                 Class     Images  Instances      Box(P          R      mAP50  mAP50-95): 100%|██████████| 8/8 [00:01<00:00,  7.33it/s]"
     ]
    },
    {
     "name": "stdout",
     "output_type": "stream",
     "text": [
      "                   all        230        257      0.884      0.899      0.948      0.616\n"
     ]
    },
    {
     "name": "stderr",
     "output_type": "stream",
     "text": [
      "\n"
     ]
    },
    {
     "name": "stdout",
     "output_type": "stream",
     "text": [
      "\n",
      "      Epoch    GPU_mem   box_loss   cls_loss   dfl_loss  Instances       Size\n"
     ]
    },
    {
     "name": "stderr",
     "output_type": "stream",
     "text": [
      "     18/100      2.12G      1.148      0.779      1.149          4        640: 100%|██████████| 44/44 [00:05<00:00,  8.77it/s]\n",
      "                 Class     Images  Instances      Box(P          R      mAP50  mAP50-95): 100%|██████████| 8/8 [00:01<00:00,  6.76it/s]"
     ]
    },
    {
     "name": "stdout",
     "output_type": "stream",
     "text": [
      "                   all        230        257       0.87      0.957      0.959       0.64\n"
     ]
    },
    {
     "name": "stderr",
     "output_type": "stream",
     "text": [
      "\n"
     ]
    },
    {
     "name": "stdout",
     "output_type": "stream",
     "text": [
      "\n",
      "      Epoch    GPU_mem   box_loss   cls_loss   dfl_loss  Instances       Size\n"
     ]
    },
    {
     "name": "stderr",
     "output_type": "stream",
     "text": [
      "     19/100      2.11G      1.135     0.7494      1.126          2        640: 100%|██████████| 44/44 [00:04<00:00,  8.80it/s]\n",
      "                 Class     Images  Instances      Box(P          R      mAP50  mAP50-95): 100%|██████████| 8/8 [00:01<00:00,  7.51it/s]"
     ]
    },
    {
     "name": "stdout",
     "output_type": "stream",
     "text": [
      "                   all        230        257      0.907      0.953      0.964      0.639\n"
     ]
    },
    {
     "name": "stderr",
     "output_type": "stream",
     "text": [
      "\n"
     ]
    },
    {
     "name": "stdout",
     "output_type": "stream",
     "text": [
      "\n",
      "      Epoch    GPU_mem   box_loss   cls_loss   dfl_loss  Instances       Size\n"
     ]
    },
    {
     "name": "stderr",
     "output_type": "stream",
     "text": [
      "     20/100      2.11G      1.152     0.7746      1.144          1        640: 100%|██████████| 44/44 [00:05<00:00,  8.68it/s]\n",
      "                 Class     Images  Instances      Box(P          R      mAP50  mAP50-95): 100%|██████████| 8/8 [00:01<00:00,  7.62it/s]"
     ]
    },
    {
     "name": "stdout",
     "output_type": "stream",
     "text": [
      "                   all        230        257      0.923      0.936      0.974      0.658\n"
     ]
    },
    {
     "name": "stderr",
     "output_type": "stream",
     "text": [
      "\n"
     ]
    },
    {
     "name": "stdout",
     "output_type": "stream",
     "text": [
      "\n",
      "      Epoch    GPU_mem   box_loss   cls_loss   dfl_loss  Instances       Size\n"
     ]
    },
    {
     "name": "stderr",
     "output_type": "stream",
     "text": [
      "     21/100      2.11G      1.115     0.7511      1.122          1        640: 100%|██████████| 44/44 [00:05<00:00,  8.79it/s]\n",
      "                 Class     Images  Instances      Box(P          R      mAP50  mAP50-95): 100%|██████████| 8/8 [00:01<00:00,  7.72it/s]"
     ]
    },
    {
     "name": "stdout",
     "output_type": "stream",
     "text": [
      "                   all        230        257      0.893      0.899      0.937      0.538\n"
     ]
    },
    {
     "name": "stderr",
     "output_type": "stream",
     "text": [
      "\n"
     ]
    },
    {
     "name": "stdout",
     "output_type": "stream",
     "text": [
      "\n",
      "      Epoch    GPU_mem   box_loss   cls_loss   dfl_loss  Instances       Size\n"
     ]
    },
    {
     "name": "stderr",
     "output_type": "stream",
     "text": [
      "     22/100      2.12G      1.129      0.755      1.134          4        640: 100%|██████████| 44/44 [00:04<00:00,  8.82it/s]\n",
      "                 Class     Images  Instances      Box(P          R      mAP50  mAP50-95): 100%|██████████| 8/8 [00:01<00:00,  7.47it/s]"
     ]
    },
    {
     "name": "stdout",
     "output_type": "stream",
     "text": [
      "                   all        230        257      0.921      0.958      0.967      0.669\n"
     ]
    },
    {
     "name": "stderr",
     "output_type": "stream",
     "text": [
      "\n"
     ]
    },
    {
     "name": "stdout",
     "output_type": "stream",
     "text": [
      "\n",
      "      Epoch    GPU_mem   box_loss   cls_loss   dfl_loss  Instances       Size\n"
     ]
    },
    {
     "name": "stderr",
     "output_type": "stream",
     "text": [
      "     23/100      2.11G      1.108     0.7553      1.141          1        640: 100%|██████████| 44/44 [00:05<00:00,  8.78it/s]\n",
      "                 Class     Images  Instances      Box(P          R      mAP50  mAP50-95): 100%|██████████| 8/8 [00:01<00:00,  7.54it/s]"
     ]
    },
    {
     "name": "stdout",
     "output_type": "stream",
     "text": [
      "                   all        230        257      0.945      0.945      0.976      0.642\n"
     ]
    },
    {
     "name": "stderr",
     "output_type": "stream",
     "text": [
      "\n"
     ]
    },
    {
     "name": "stdout",
     "output_type": "stream",
     "text": [
      "\n",
      "      Epoch    GPU_mem   box_loss   cls_loss   dfl_loss  Instances       Size\n"
     ]
    },
    {
     "name": "stderr",
     "output_type": "stream",
     "text": [
      "     24/100      2.13G      1.092     0.7701       1.12          1        640: 100%|██████████| 44/44 [00:05<00:00,  8.76it/s]\n",
      "                 Class     Images  Instances      Box(P          R      mAP50  mAP50-95): 100%|██████████| 8/8 [00:01<00:00,  7.60it/s]"
     ]
    },
    {
     "name": "stdout",
     "output_type": "stream",
     "text": [
      "                   all        230        257      0.914       0.93      0.972      0.665\n"
     ]
    },
    {
     "name": "stderr",
     "output_type": "stream",
     "text": [
      "\n"
     ]
    },
    {
     "name": "stdout",
     "output_type": "stream",
     "text": [
      "\n",
      "      Epoch    GPU_mem   box_loss   cls_loss   dfl_loss  Instances       Size\n"
     ]
    },
    {
     "name": "stderr",
     "output_type": "stream",
     "text": [
      "     25/100      2.13G      1.118      0.744      1.112          4        640: 100%|██████████| 44/44 [00:05<00:00,  8.76it/s]\n",
      "                 Class     Images  Instances      Box(P          R      mAP50  mAP50-95): 100%|██████████| 8/8 [00:01<00:00,  7.31it/s]"
     ]
    },
    {
     "name": "stdout",
     "output_type": "stream",
     "text": [
      "                   all        230        257      0.912      0.927      0.961      0.668\n"
     ]
    },
    {
     "name": "stderr",
     "output_type": "stream",
     "text": [
      "\n"
     ]
    },
    {
     "name": "stdout",
     "output_type": "stream",
     "text": [
      "\n",
      "      Epoch    GPU_mem   box_loss   cls_loss   dfl_loss  Instances       Size\n"
     ]
    },
    {
     "name": "stderr",
     "output_type": "stream",
     "text": [
      "     26/100      2.11G      1.091     0.7366      1.122          1        640: 100%|██████████| 44/44 [00:04<00:00,  8.84it/s]\n",
      "                 Class     Images  Instances      Box(P          R      mAP50  mAP50-95): 100%|██████████| 8/8 [00:01<00:00,  7.56it/s]"
     ]
    },
    {
     "name": "stdout",
     "output_type": "stream",
     "text": [
      "                   all        230        257      0.931       0.95      0.973      0.662\n"
     ]
    },
    {
     "name": "stderr",
     "output_type": "stream",
     "text": [
      "\n"
     ]
    },
    {
     "name": "stdout",
     "output_type": "stream",
     "text": [
      "\n",
      "      Epoch    GPU_mem   box_loss   cls_loss   dfl_loss  Instances       Size\n"
     ]
    },
    {
     "name": "stderr",
     "output_type": "stream",
     "text": [
      "     27/100      2.12G      1.048     0.6879      1.075          0        640: 100%|██████████| 44/44 [00:05<00:00,  8.59it/s]\n",
      "                 Class     Images  Instances      Box(P          R      mAP50  mAP50-95): 100%|██████████| 8/8 [00:01<00:00,  7.17it/s]"
     ]
    },
    {
     "name": "stdout",
     "output_type": "stream",
     "text": [
      "                   all        230        257      0.911      0.962      0.967      0.691\n"
     ]
    },
    {
     "name": "stderr",
     "output_type": "stream",
     "text": [
      "\n"
     ]
    },
    {
     "name": "stdout",
     "output_type": "stream",
     "text": [
      "\n",
      "      Epoch    GPU_mem   box_loss   cls_loss   dfl_loss  Instances       Size\n"
     ]
    },
    {
     "name": "stderr",
     "output_type": "stream",
     "text": [
      "     28/100      2.11G      1.065     0.7821      1.121          2        640: 100%|██████████| 44/44 [00:05<00:00,  8.48it/s]\n",
      "                 Class     Images  Instances      Box(P          R      mAP50  mAP50-95): 100%|██████████| 8/8 [00:01<00:00,  7.34it/s]"
     ]
    },
    {
     "name": "stdout",
     "output_type": "stream",
     "text": [
      "                   all        230        257       0.93      0.924      0.966      0.661\n"
     ]
    },
    {
     "name": "stderr",
     "output_type": "stream",
     "text": [
      "\n"
     ]
    },
    {
     "name": "stdout",
     "output_type": "stream",
     "text": [
      "\n",
      "      Epoch    GPU_mem   box_loss   cls_loss   dfl_loss  Instances       Size\n"
     ]
    },
    {
     "name": "stderr",
     "output_type": "stream",
     "text": [
      "     29/100      2.12G      1.032     0.6786      1.078          1        640: 100%|██████████| 44/44 [00:05<00:00,  8.58it/s]\n",
      "                 Class     Images  Instances      Box(P          R      mAP50  mAP50-95): 100%|██████████| 8/8 [00:01<00:00,  6.76it/s]"
     ]
    },
    {
     "name": "stdout",
     "output_type": "stream",
     "text": [
      "                   all        230        257       0.89      0.926      0.962      0.661\n"
     ]
    },
    {
     "name": "stderr",
     "output_type": "stream",
     "text": [
      "\n"
     ]
    },
    {
     "name": "stdout",
     "output_type": "stream",
     "text": [
      "\n",
      "      Epoch    GPU_mem   box_loss   cls_loss   dfl_loss  Instances       Size\n"
     ]
    },
    {
     "name": "stderr",
     "output_type": "stream",
     "text": [
      "     30/100      2.12G      1.062     0.6556       1.09          4        640: 100%|██████████| 44/44 [00:05<00:00,  8.72it/s]\n",
      "                 Class     Images  Instances      Box(P          R      mAP50  mAP50-95): 100%|██████████| 8/8 [00:01<00:00,  7.37it/s]"
     ]
    },
    {
     "name": "stdout",
     "output_type": "stream",
     "text": [
      "                   all        230        257      0.915      0.934      0.952      0.635\n"
     ]
    },
    {
     "name": "stderr",
     "output_type": "stream",
     "text": [
      "\n"
     ]
    },
    {
     "name": "stdout",
     "output_type": "stream",
     "text": [
      "\n",
      "      Epoch    GPU_mem   box_loss   cls_loss   dfl_loss  Instances       Size\n"
     ]
    },
    {
     "name": "stderr",
     "output_type": "stream",
     "text": [
      "     31/100      2.12G      1.073     0.6797      1.095          2        640: 100%|██████████| 44/44 [00:05<00:00,  8.54it/s]\n",
      "                 Class     Images  Instances      Box(P          R      mAP50  mAP50-95): 100%|██████████| 8/8 [00:01<00:00,  7.36it/s]"
     ]
    },
    {
     "name": "stdout",
     "output_type": "stream",
     "text": [
      "                   all        230        257      0.916      0.973      0.972      0.667\n"
     ]
    },
    {
     "name": "stderr",
     "output_type": "stream",
     "text": [
      "\n"
     ]
    },
    {
     "name": "stdout",
     "output_type": "stream",
     "text": [
      "\n",
      "      Epoch    GPU_mem   box_loss   cls_loss   dfl_loss  Instances       Size\n"
     ]
    },
    {
     "name": "stderr",
     "output_type": "stream",
     "text": [
      "     32/100      2.12G      1.059     0.6804      1.074          4        640: 100%|██████████| 44/44 [00:05<00:00,  8.59it/s]\n",
      "                 Class     Images  Instances      Box(P          R      mAP50  mAP50-95): 100%|██████████| 8/8 [00:01<00:00,  7.32it/s]"
     ]
    },
    {
     "name": "stdout",
     "output_type": "stream",
     "text": [
      "                   all        230        257      0.912      0.973      0.975       0.69\n"
     ]
    },
    {
     "name": "stderr",
     "output_type": "stream",
     "text": [
      "\n"
     ]
    },
    {
     "name": "stdout",
     "output_type": "stream",
     "text": [
      "\n",
      "      Epoch    GPU_mem   box_loss   cls_loss   dfl_loss  Instances       Size\n"
     ]
    },
    {
     "name": "stderr",
     "output_type": "stream",
     "text": [
      "     33/100      2.11G      1.029     0.6526      1.079          1        640: 100%|██████████| 44/44 [00:05<00:00,  8.55it/s]\n",
      "                 Class     Images  Instances      Box(P          R      mAP50  mAP50-95): 100%|██████████| 8/8 [00:01<00:00,  7.17it/s]"
     ]
    },
    {
     "name": "stdout",
     "output_type": "stream",
     "text": [
      "                   all        230        257      0.937      0.953      0.976      0.674\n"
     ]
    },
    {
     "name": "stderr",
     "output_type": "stream",
     "text": [
      "\n"
     ]
    },
    {
     "name": "stdout",
     "output_type": "stream",
     "text": [
      "\n",
      "      Epoch    GPU_mem   box_loss   cls_loss   dfl_loss  Instances       Size\n"
     ]
    },
    {
     "name": "stderr",
     "output_type": "stream",
     "text": [
      "     34/100      2.12G      1.053     0.7158      1.099          3        640: 100%|██████████| 44/44 [00:05<00:00,  8.74it/s]\n",
      "                 Class     Images  Instances      Box(P          R      mAP50  mAP50-95): 100%|██████████| 8/8 [00:01<00:00,  7.59it/s]"
     ]
    },
    {
     "name": "stdout",
     "output_type": "stream",
     "text": [
      "                   all        230        257      0.941      0.928      0.967      0.673\n"
     ]
    },
    {
     "name": "stderr",
     "output_type": "stream",
     "text": [
      "\n"
     ]
    },
    {
     "name": "stdout",
     "output_type": "stream",
     "text": [
      "\n",
      "      Epoch    GPU_mem   box_loss   cls_loss   dfl_loss  Instances       Size\n"
     ]
    },
    {
     "name": "stderr",
     "output_type": "stream",
     "text": [
      "     35/100      2.11G      1.045     0.6614      1.094          1        640: 100%|██████████| 44/44 [00:05<00:00,  8.75it/s]\n",
      "                 Class     Images  Instances      Box(P          R      mAP50  mAP50-95): 100%|██████████| 8/8 [00:01<00:00,  7.49it/s]"
     ]
    },
    {
     "name": "stdout",
     "output_type": "stream",
     "text": [
      "                   all        230        257      0.939      0.965      0.975      0.701\n"
     ]
    },
    {
     "name": "stderr",
     "output_type": "stream",
     "text": [
      "\n"
     ]
    },
    {
     "name": "stdout",
     "output_type": "stream",
     "text": [
      "\n",
      "      Epoch    GPU_mem   box_loss   cls_loss   dfl_loss  Instances       Size\n"
     ]
    },
    {
     "name": "stderr",
     "output_type": "stream",
     "text": [
      "     36/100      2.12G       1.02     0.6427      1.095          4        640: 100%|██████████| 44/44 [00:05<00:00,  8.74it/s]\n",
      "                 Class     Images  Instances      Box(P          R      mAP50  mAP50-95): 100%|██████████| 8/8 [00:01<00:00,  7.51it/s]"
     ]
    },
    {
     "name": "stdout",
     "output_type": "stream",
     "text": [
      "                   all        230        257      0.904      0.987      0.966      0.665\n"
     ]
    },
    {
     "name": "stderr",
     "output_type": "stream",
     "text": [
      "\n"
     ]
    },
    {
     "name": "stdout",
     "output_type": "stream",
     "text": [
      "\n",
      "      Epoch    GPU_mem   box_loss   cls_loss   dfl_loss  Instances       Size\n"
     ]
    },
    {
     "name": "stderr",
     "output_type": "stream",
     "text": [
      "     37/100      2.11G      0.989     0.6375      1.049          2        640: 100%|██████████| 44/44 [00:04<00:00,  8.82it/s]\n",
      "                 Class     Images  Instances      Box(P          R      mAP50  mAP50-95): 100%|██████████| 8/8 [00:01<00:00,  7.12it/s]"
     ]
    },
    {
     "name": "stdout",
     "output_type": "stream",
     "text": [
      "                   all        230        257       0.92      0.942      0.974      0.679\n"
     ]
    },
    {
     "name": "stderr",
     "output_type": "stream",
     "text": [
      "\n"
     ]
    },
    {
     "name": "stdout",
     "output_type": "stream",
     "text": [
      "\n",
      "      Epoch    GPU_mem   box_loss   cls_loss   dfl_loss  Instances       Size\n"
     ]
    },
    {
     "name": "stderr",
     "output_type": "stream",
     "text": [
      "     38/100      2.11G      1.046     0.6703      1.099          1        640: 100%|██████████| 44/44 [00:05<00:00,  8.80it/s]\n",
      "                 Class     Images  Instances      Box(P          R      mAP50  mAP50-95): 100%|██████████| 8/8 [00:01<00:00,  7.65it/s]"
     ]
    },
    {
     "name": "stdout",
     "output_type": "stream",
     "text": [
      "                   all        230        257      0.945      0.941      0.979      0.674\n"
     ]
    },
    {
     "name": "stderr",
     "output_type": "stream",
     "text": [
      "\n"
     ]
    },
    {
     "name": "stdout",
     "output_type": "stream",
     "text": [
      "\n",
      "      Epoch    GPU_mem   box_loss   cls_loss   dfl_loss  Instances       Size\n"
     ]
    },
    {
     "name": "stderr",
     "output_type": "stream",
     "text": [
      "     39/100      2.11G      1.012     0.6248      1.082          1        640: 100%|██████████| 44/44 [00:05<00:00,  8.71it/s]\n",
      "                 Class     Images  Instances      Box(P          R      mAP50  mAP50-95): 100%|██████████| 8/8 [00:01<00:00,  6.96it/s]"
     ]
    },
    {
     "name": "stdout",
     "output_type": "stream",
     "text": [
      "                   all        230        257       0.92      0.965      0.971      0.671\n"
     ]
    },
    {
     "name": "stderr",
     "output_type": "stream",
     "text": [
      "\n"
     ]
    },
    {
     "name": "stdout",
     "output_type": "stream",
     "text": [
      "\n",
      "      Epoch    GPU_mem   box_loss   cls_loss   dfl_loss  Instances       Size\n"
     ]
    },
    {
     "name": "stderr",
     "output_type": "stream",
     "text": [
      "     40/100      2.11G     0.9811     0.6311      1.066          2        640: 100%|██████████| 44/44 [00:05<00:00,  8.43it/s]\n",
      "                 Class     Images  Instances      Box(P          R      mAP50  mAP50-95): 100%|██████████| 8/8 [00:01<00:00,  6.67it/s]"
     ]
    },
    {
     "name": "stdout",
     "output_type": "stream",
     "text": [
      "                   all        230        257      0.943      0.938      0.973      0.683\n"
     ]
    },
    {
     "name": "stderr",
     "output_type": "stream",
     "text": [
      "\n"
     ]
    },
    {
     "name": "stdout",
     "output_type": "stream",
     "text": [
      "\n",
      "      Epoch    GPU_mem   box_loss   cls_loss   dfl_loss  Instances       Size\n"
     ]
    },
    {
     "name": "stderr",
     "output_type": "stream",
     "text": [
      "     41/100      2.11G     0.9919     0.6358      1.043          0        640: 100%|██████████| 44/44 [00:05<00:00,  8.55it/s]\n",
      "                 Class     Images  Instances      Box(P          R      mAP50  mAP50-95): 100%|██████████| 8/8 [00:01<00:00,  6.59it/s]"
     ]
    },
    {
     "name": "stdout",
     "output_type": "stream",
     "text": [
      "                   all        230        257      0.932      0.955      0.975      0.701\n"
     ]
    },
    {
     "name": "stderr",
     "output_type": "stream",
     "text": [
      "\n"
     ]
    },
    {
     "name": "stdout",
     "output_type": "stream",
     "text": [
      "\n",
      "      Epoch    GPU_mem   box_loss   cls_loss   dfl_loss  Instances       Size\n"
     ]
    },
    {
     "name": "stderr",
     "output_type": "stream",
     "text": [
      "     42/100      2.11G     0.9908     0.6282      1.068          1        640: 100%|██████████| 44/44 [00:05<00:00,  8.01it/s]\n",
      "                 Class     Images  Instances      Box(P          R      mAP50  mAP50-95): 100%|██████████| 8/8 [00:01<00:00,  6.91it/s]"
     ]
    },
    {
     "name": "stdout",
     "output_type": "stream",
     "text": [
      "                   all        230        257      0.916      0.971      0.981      0.702\n"
     ]
    },
    {
     "name": "stderr",
     "output_type": "stream",
     "text": [
      "\n"
     ]
    },
    {
     "name": "stdout",
     "output_type": "stream",
     "text": [
      "\n",
      "      Epoch    GPU_mem   box_loss   cls_loss   dfl_loss  Instances       Size\n"
     ]
    },
    {
     "name": "stderr",
     "output_type": "stream",
     "text": [
      "     43/100      2.12G     0.9776     0.6145       1.06          7        640: 100%|██████████| 44/44 [00:05<00:00,  8.42it/s]\n",
      "                 Class     Images  Instances      Box(P          R      mAP50  mAP50-95): 100%|██████████| 8/8 [00:01<00:00,  7.02it/s]"
     ]
    },
    {
     "name": "stdout",
     "output_type": "stream",
     "text": [
      "                   all        230        257      0.961      0.922      0.978      0.681\n"
     ]
    },
    {
     "name": "stderr",
     "output_type": "stream",
     "text": [
      "\n"
     ]
    },
    {
     "name": "stdout",
     "output_type": "stream",
     "text": [
      "\n",
      "      Epoch    GPU_mem   box_loss   cls_loss   dfl_loss  Instances       Size\n"
     ]
    },
    {
     "name": "stderr",
     "output_type": "stream",
     "text": [
      "     44/100      2.11G     0.9685     0.6003      1.043          1        640: 100%|██████████| 44/44 [00:05<00:00,  8.51it/s]\n",
      "                 Class     Images  Instances      Box(P          R      mAP50  mAP50-95): 100%|██████████| 8/8 [00:01<00:00,  6.98it/s]"
     ]
    },
    {
     "name": "stdout",
     "output_type": "stream",
     "text": [
      "                   all        230        257      0.928      0.956      0.972      0.678\n"
     ]
    },
    {
     "name": "stderr",
     "output_type": "stream",
     "text": [
      "\n"
     ]
    },
    {
     "name": "stdout",
     "output_type": "stream",
     "text": [
      "\n",
      "      Epoch    GPU_mem   box_loss   cls_loss   dfl_loss  Instances       Size\n"
     ]
    },
    {
     "name": "stderr",
     "output_type": "stream",
     "text": [
      "     45/100      2.11G     0.9933     0.6179      1.062          1        640: 100%|██████████| 44/44 [00:05<00:00,  8.54it/s]\n",
      "                 Class     Images  Instances      Box(P          R      mAP50  mAP50-95): 100%|██████████| 8/8 [00:01<00:00,  6.81it/s]"
     ]
    },
    {
     "name": "stdout",
     "output_type": "stream",
     "text": [
      "                   all        230        257       0.94      0.965      0.985      0.709\n"
     ]
    },
    {
     "name": "stderr",
     "output_type": "stream",
     "text": [
      "\n"
     ]
    },
    {
     "name": "stdout",
     "output_type": "stream",
     "text": [
      "\n",
      "      Epoch    GPU_mem   box_loss   cls_loss   dfl_loss  Instances       Size\n"
     ]
    },
    {
     "name": "stderr",
     "output_type": "stream",
     "text": [
      "     46/100      2.11G     0.9986     0.6015      1.057          1        640: 100%|██████████| 44/44 [00:05<00:00,  8.52it/s]\n",
      "                 Class     Images  Instances      Box(P          R      mAP50  mAP50-95): 100%|██████████| 8/8 [00:01<00:00,  6.93it/s]"
     ]
    },
    {
     "name": "stdout",
     "output_type": "stream",
     "text": [
      "                   all        230        257      0.939      0.965      0.983      0.693\n"
     ]
    },
    {
     "name": "stderr",
     "output_type": "stream",
     "text": [
      "\n"
     ]
    },
    {
     "name": "stdout",
     "output_type": "stream",
     "text": [
      "\n",
      "      Epoch    GPU_mem   box_loss   cls_loss   dfl_loss  Instances       Size\n"
     ]
    },
    {
     "name": "stderr",
     "output_type": "stream",
     "text": [
      "     47/100      2.11G      1.004     0.5979      1.067          2        640: 100%|██████████| 44/44 [00:05<00:00,  8.52it/s]\n",
      "                 Class     Images  Instances      Box(P          R      mAP50  mAP50-95): 100%|██████████| 8/8 [00:01<00:00,  7.12it/s]"
     ]
    },
    {
     "name": "stdout",
     "output_type": "stream",
     "text": [
      "                   all        230        257      0.932      0.977      0.978      0.693\n"
     ]
    },
    {
     "name": "stderr",
     "output_type": "stream",
     "text": [
      "\n"
     ]
    },
    {
     "name": "stdout",
     "output_type": "stream",
     "text": [
      "\n",
      "      Epoch    GPU_mem   box_loss   cls_loss   dfl_loss  Instances       Size\n"
     ]
    },
    {
     "name": "stderr",
     "output_type": "stream",
     "text": [
      "     48/100      2.12G     0.9328     0.5798      1.038          2        640: 100%|██████████| 44/44 [00:05<00:00,  8.54it/s]\n",
      "                 Class     Images  Instances      Box(P          R      mAP50  mAP50-95): 100%|██████████| 8/8 [00:01<00:00,  6.91it/s]"
     ]
    },
    {
     "name": "stdout",
     "output_type": "stream",
     "text": [
      "                   all        230        257      0.953      0.965      0.983      0.691\n"
     ]
    },
    {
     "name": "stderr",
     "output_type": "stream",
     "text": [
      "\n"
     ]
    },
    {
     "name": "stdout",
     "output_type": "stream",
     "text": [
      "\n",
      "      Epoch    GPU_mem   box_loss   cls_loss   dfl_loss  Instances       Size\n"
     ]
    },
    {
     "name": "stderr",
     "output_type": "stream",
     "text": [
      "     49/100      2.11G     0.9924     0.5992      1.078          1        640: 100%|██████████| 44/44 [00:05<00:00,  8.50it/s]\n",
      "                 Class     Images  Instances      Box(P          R      mAP50  mAP50-95): 100%|██████████| 8/8 [00:01<00:00,  6.79it/s]"
     ]
    },
    {
     "name": "stdout",
     "output_type": "stream",
     "text": [
      "                   all        230        257      0.932      0.973      0.975      0.707\n"
     ]
    },
    {
     "name": "stderr",
     "output_type": "stream",
     "text": [
      "\n"
     ]
    },
    {
     "name": "stdout",
     "output_type": "stream",
     "text": [
      "\n",
      "      Epoch    GPU_mem   box_loss   cls_loss   dfl_loss  Instances       Size\n"
     ]
    },
    {
     "name": "stderr",
     "output_type": "stream",
     "text": [
      "     50/100      2.13G     0.9565     0.5851      1.045          5        640: 100%|██████████| 44/44 [00:05<00:00,  8.53it/s]\n",
      "                 Class     Images  Instances      Box(P          R      mAP50  mAP50-95): 100%|██████████| 8/8 [00:01<00:00,  7.17it/s]"
     ]
    },
    {
     "name": "stdout",
     "output_type": "stream",
     "text": [
      "                   all        230        257      0.943       0.96      0.971      0.691\n"
     ]
    },
    {
     "name": "stderr",
     "output_type": "stream",
     "text": [
      "\n"
     ]
    },
    {
     "name": "stdout",
     "output_type": "stream",
     "text": [
      "\n",
      "      Epoch    GPU_mem   box_loss   cls_loss   dfl_loss  Instances       Size\n"
     ]
    },
    {
     "name": "stderr",
     "output_type": "stream",
     "text": [
      "     51/100      2.11G     0.9719     0.5698      1.034          1        640: 100%|██████████| 44/44 [00:05<00:00,  8.39it/s]\n",
      "                 Class     Images  Instances      Box(P          R      mAP50  mAP50-95): 100%|██████████| 8/8 [00:01<00:00,  7.00it/s]"
     ]
    },
    {
     "name": "stdout",
     "output_type": "stream",
     "text": [
      "                   all        230        257      0.953      0.977      0.982      0.696\n"
     ]
    },
    {
     "name": "stderr",
     "output_type": "stream",
     "text": [
      "\n"
     ]
    },
    {
     "name": "stdout",
     "output_type": "stream",
     "text": [
      "\n",
      "      Epoch    GPU_mem   box_loss   cls_loss   dfl_loss  Instances       Size\n"
     ]
    },
    {
     "name": "stderr",
     "output_type": "stream",
     "text": [
      "     52/100      2.11G     0.9663     0.6064      1.059          2        640: 100%|██████████| 44/44 [00:05<00:00,  8.49it/s]\n",
      "                 Class     Images  Instances      Box(P          R      mAP50  mAP50-95): 100%|██████████| 8/8 [00:01<00:00,  7.14it/s]"
     ]
    },
    {
     "name": "stdout",
     "output_type": "stream",
     "text": [
      "                   all        230        257      0.942      0.953      0.976      0.717\n"
     ]
    },
    {
     "name": "stderr",
     "output_type": "stream",
     "text": [
      "\n"
     ]
    },
    {
     "name": "stdout",
     "output_type": "stream",
     "text": [
      "\n",
      "      Epoch    GPU_mem   box_loss   cls_loss   dfl_loss  Instances       Size\n"
     ]
    },
    {
     "name": "stderr",
     "output_type": "stream",
     "text": [
      "     53/100      2.12G     0.9463     0.5756      1.037          3        640: 100%|██████████| 44/44 [00:05<00:00,  8.45it/s]\n",
      "                 Class     Images  Instances      Box(P          R      mAP50  mAP50-95): 100%|██████████| 8/8 [00:01<00:00,  6.89it/s]"
     ]
    },
    {
     "name": "stdout",
     "output_type": "stream",
     "text": [
      "                   all        230        257      0.926      0.978      0.971      0.695\n"
     ]
    },
    {
     "name": "stderr",
     "output_type": "stream",
     "text": [
      "\n"
     ]
    },
    {
     "name": "stdout",
     "output_type": "stream",
     "text": [
      "\n",
      "      Epoch    GPU_mem   box_loss   cls_loss   dfl_loss  Instances       Size\n"
     ]
    },
    {
     "name": "stderr",
     "output_type": "stream",
     "text": [
      "     54/100      2.12G     0.9742     0.5747      1.045          3        640: 100%|██████████| 44/44 [00:05<00:00,  8.29it/s]\n",
      "                 Class     Images  Instances      Box(P          R      mAP50  mAP50-95): 100%|██████████| 8/8 [00:01<00:00,  6.26it/s]"
     ]
    },
    {
     "name": "stdout",
     "output_type": "stream",
     "text": [
      "                   all        230        257      0.933      0.982      0.973      0.699\n"
     ]
    },
    {
     "name": "stderr",
     "output_type": "stream",
     "text": [
      "\n"
     ]
    },
    {
     "name": "stdout",
     "output_type": "stream",
     "text": [
      "\n",
      "      Epoch    GPU_mem   box_loss   cls_loss   dfl_loss  Instances       Size\n"
     ]
    },
    {
     "name": "stderr",
     "output_type": "stream",
     "text": [
      "     55/100      2.11G     0.9433     0.5806      1.046          2        640: 100%|██████████| 44/44 [00:05<00:00,  8.35it/s]\n",
      "                 Class     Images  Instances      Box(P          R      mAP50  mAP50-95): 100%|██████████| 8/8 [00:01<00:00,  6.70it/s]"
     ]
    },
    {
     "name": "stdout",
     "output_type": "stream",
     "text": [
      "                   all        230        257      0.942      0.969      0.972      0.709\n"
     ]
    },
    {
     "name": "stderr",
     "output_type": "stream",
     "text": [
      "\n"
     ]
    },
    {
     "name": "stdout",
     "output_type": "stream",
     "text": [
      "\n",
      "      Epoch    GPU_mem   box_loss   cls_loss   dfl_loss  Instances       Size\n"
     ]
    },
    {
     "name": "stderr",
     "output_type": "stream",
     "text": [
      "     56/100      2.12G     0.9321     0.5601      1.038          3        640: 100%|██████████| 44/44 [00:05<00:00,  8.35it/s]\n",
      "                 Class     Images  Instances      Box(P          R      mAP50  mAP50-95): 100%|██████████| 8/8 [00:01<00:00,  6.91it/s]"
     ]
    },
    {
     "name": "stdout",
     "output_type": "stream",
     "text": [
      "                   all        230        257      0.944      0.973      0.976      0.712\n"
     ]
    },
    {
     "name": "stderr",
     "output_type": "stream",
     "text": [
      "\n"
     ]
    },
    {
     "name": "stdout",
     "output_type": "stream",
     "text": [
      "\n",
      "      Epoch    GPU_mem   box_loss   cls_loss   dfl_loss  Instances       Size\n"
     ]
    },
    {
     "name": "stderr",
     "output_type": "stream",
     "text": [
      "     57/100      2.11G     0.9509     0.5713      1.039          2        640: 100%|██████████| 44/44 [00:05<00:00,  8.36it/s]\n",
      "                 Class     Images  Instances      Box(P          R      mAP50  mAP50-95): 100%|██████████| 8/8 [00:01<00:00,  6.87it/s]"
     ]
    },
    {
     "name": "stdout",
     "output_type": "stream",
     "text": [
      "                   all        230        257      0.947      0.975      0.977       0.71\n"
     ]
    },
    {
     "name": "stderr",
     "output_type": "stream",
     "text": [
      "\n"
     ]
    },
    {
     "name": "stdout",
     "output_type": "stream",
     "text": [
      "\n",
      "      Epoch    GPU_mem   box_loss   cls_loss   dfl_loss  Instances       Size\n"
     ]
    },
    {
     "name": "stderr",
     "output_type": "stream",
     "text": [
      "     58/100      2.11G     0.9869     0.5717      1.072          1        640: 100%|██████████| 44/44 [00:05<00:00,  8.46it/s]\n",
      "                 Class     Images  Instances      Box(P          R      mAP50  mAP50-95): 100%|██████████| 8/8 [00:01<00:00,  6.46it/s]"
     ]
    },
    {
     "name": "stdout",
     "output_type": "stream",
     "text": [
      "                   all        230        257      0.947      0.972      0.975      0.705\n"
     ]
    },
    {
     "name": "stderr",
     "output_type": "stream",
     "text": [
      "\n"
     ]
    },
    {
     "name": "stdout",
     "output_type": "stream",
     "text": [
      "\n",
      "      Epoch    GPU_mem   box_loss   cls_loss   dfl_loss  Instances       Size\n"
     ]
    },
    {
     "name": "stderr",
     "output_type": "stream",
     "text": [
      "     59/100      2.11G     0.9143     0.5717      1.039          2        640: 100%|██████████| 44/44 [00:05<00:00,  8.39it/s]\n",
      "                 Class     Images  Instances      Box(P          R      mAP50  mAP50-95): 100%|██████████| 8/8 [00:01<00:00,  6.90it/s]"
     ]
    },
    {
     "name": "stdout",
     "output_type": "stream",
     "text": [
      "                   all        230        257      0.933      0.977      0.977      0.692\n"
     ]
    },
    {
     "name": "stderr",
     "output_type": "stream",
     "text": [
      "\n"
     ]
    },
    {
     "name": "stdout",
     "output_type": "stream",
     "text": [
      "\n",
      "      Epoch    GPU_mem   box_loss   cls_loss   dfl_loss  Instances       Size\n"
     ]
    },
    {
     "name": "stderr",
     "output_type": "stream",
     "text": [
      "     60/100      2.11G     0.9256     0.5513      1.032          1        640: 100%|██████████| 44/44 [00:05<00:00,  8.49it/s]\n",
      "                 Class     Images  Instances      Box(P          R      mAP50  mAP50-95): 100%|██████████| 8/8 [00:01<00:00,  7.18it/s]"
     ]
    },
    {
     "name": "stdout",
     "output_type": "stream",
     "text": [
      "                   all        230        257      0.939      0.965      0.975       0.67\n"
     ]
    },
    {
     "name": "stderr",
     "output_type": "stream",
     "text": [
      "\n"
     ]
    },
    {
     "name": "stdout",
     "output_type": "stream",
     "text": [
      "\n",
      "      Epoch    GPU_mem   box_loss   cls_loss   dfl_loss  Instances       Size\n"
     ]
    },
    {
     "name": "stderr",
     "output_type": "stream",
     "text": [
      "     61/100      2.12G     0.9373      0.552      1.042          4        640: 100%|██████████| 44/44 [00:05<00:00,  8.51it/s]\n",
      "                 Class     Images  Instances      Box(P          R      mAP50  mAP50-95): 100%|██████████| 8/8 [00:01<00:00,  7.10it/s]"
     ]
    },
    {
     "name": "stdout",
     "output_type": "stream",
     "text": [
      "                   all        230        257      0.943      0.965      0.975      0.681\n"
     ]
    },
    {
     "name": "stderr",
     "output_type": "stream",
     "text": [
      "\n"
     ]
    },
    {
     "name": "stdout",
     "output_type": "stream",
     "text": [
      "\n",
      "      Epoch    GPU_mem   box_loss   cls_loss   dfl_loss  Instances       Size\n"
     ]
    },
    {
     "name": "stderr",
     "output_type": "stream",
     "text": [
      "     62/100      2.12G     0.9192     0.5731      1.023          7        640: 100%|██████████| 44/44 [00:05<00:00,  8.40it/s]\n",
      "                 Class     Images  Instances      Box(P          R      mAP50  mAP50-95): 100%|██████████| 8/8 [00:01<00:00,  6.91it/s]"
     ]
    },
    {
     "name": "stdout",
     "output_type": "stream",
     "text": [
      "                   all        230        257      0.939      0.969      0.971      0.695\n"
     ]
    },
    {
     "name": "stderr",
     "output_type": "stream",
     "text": [
      "\n"
     ]
    },
    {
     "name": "stdout",
     "output_type": "stream",
     "text": [
      "\n",
      "      Epoch    GPU_mem   box_loss   cls_loss   dfl_loss  Instances       Size\n"
     ]
    },
    {
     "name": "stderr",
     "output_type": "stream",
     "text": [
      "     63/100      2.12G      0.904     0.5383      1.021          3        640: 100%|██████████| 44/44 [00:05<00:00,  8.58it/s]\n",
      "                 Class     Images  Instances      Box(P          R      mAP50  mAP50-95): 100%|██████████| 8/8 [00:01<00:00,  7.10it/s]"
     ]
    },
    {
     "name": "stdout",
     "output_type": "stream",
     "text": [
      "                   all        230        257      0.932      0.956      0.967      0.693\n"
     ]
    },
    {
     "name": "stderr",
     "output_type": "stream",
     "text": [
      "\n"
     ]
    },
    {
     "name": "stdout",
     "output_type": "stream",
     "text": [
      "\n",
      "      Epoch    GPU_mem   box_loss   cls_loss   dfl_loss  Instances       Size\n"
     ]
    },
    {
     "name": "stderr",
     "output_type": "stream",
     "text": [
      "     64/100      2.11G     0.9312     0.5473      1.033          1        640: 100%|██████████| 44/44 [00:05<00:00,  8.58it/s]\n",
      "                 Class     Images  Instances      Box(P          R      mAP50  mAP50-95): 100%|██████████| 8/8 [00:01<00:00,  6.94it/s]"
     ]
    },
    {
     "name": "stdout",
     "output_type": "stream",
     "text": [
      "                   all        230        257      0.934      0.973       0.97      0.699\n"
     ]
    },
    {
     "name": "stderr",
     "output_type": "stream",
     "text": [
      "\n"
     ]
    },
    {
     "name": "stdout",
     "output_type": "stream",
     "text": [
      "\n",
      "      Epoch    GPU_mem   box_loss   cls_loss   dfl_loss  Instances       Size\n"
     ]
    },
    {
     "name": "stderr",
     "output_type": "stream",
     "text": [
      "     65/100      2.13G     0.8723      0.645     0.9931          0        640: 100%|██████████| 44/44 [00:05<00:00,  8.54it/s]\n",
      "                 Class     Images  Instances      Box(P          R      mAP50  mAP50-95): 100%|██████████| 8/8 [00:01<00:00,  6.97it/s]"
     ]
    },
    {
     "name": "stdout",
     "output_type": "stream",
     "text": [
      "                   all        230        257      0.946      0.965       0.97        0.7\n"
     ]
    },
    {
     "name": "stderr",
     "output_type": "stream",
     "text": [
      "\n"
     ]
    },
    {
     "name": "stdout",
     "output_type": "stream",
     "text": [
      "\n",
      "      Epoch    GPU_mem   box_loss   cls_loss   dfl_loss  Instances       Size\n"
     ]
    },
    {
     "name": "stderr",
     "output_type": "stream",
     "text": [
      "     66/100      2.11G     0.8937     0.5327       1.03          1        640: 100%|██████████| 44/44 [00:05<00:00,  8.51it/s]\n",
      "                 Class     Images  Instances      Box(P          R      mAP50  mAP50-95): 100%|██████████| 8/8 [00:01<00:00,  6.83it/s]"
     ]
    },
    {
     "name": "stdout",
     "output_type": "stream",
     "text": [
      "                   all        230        257      0.937      0.973      0.977      0.706\n"
     ]
    },
    {
     "name": "stderr",
     "output_type": "stream",
     "text": [
      "\n"
     ]
    },
    {
     "name": "stdout",
     "output_type": "stream",
     "text": [
      "\n",
      "      Epoch    GPU_mem   box_loss   cls_loss   dfl_loss  Instances       Size\n"
     ]
    },
    {
     "name": "stderr",
     "output_type": "stream",
     "text": [
      "     67/100      2.11G       0.88     0.5227       1.02          1        640: 100%|██████████| 44/44 [00:05<00:00,  8.48it/s]\n",
      "                 Class     Images  Instances      Box(P          R      mAP50  mAP50-95): 100%|██████████| 8/8 [00:01<00:00,  7.10it/s]"
     ]
    },
    {
     "name": "stdout",
     "output_type": "stream",
     "text": [
      "                   all        230        257      0.937      0.961      0.976      0.703\n",
      "\u001b[34m\u001b[1mEarlyStopping: \u001b[0mTraining stopped early as no improvement observed in last 15 epochs. Best results observed at epoch 52, best model saved as best.pt.\n",
      "To update EarlyStopping(patience=15) pass a new patience value, i.e. `patience=300` or use `patience=0` to disable EarlyStopping.\n"
     ]
    },
    {
     "name": "stderr",
     "output_type": "stream",
     "text": [
      "\n"
     ]
    },
    {
     "name": "stdout",
     "output_type": "stream",
     "text": [
      "\n",
      "67 epochs completed in 0.126 hours.\n",
      "Optimizer stripped from runs\\detect\\train\\weights\\last.pt, 6.3MB\n",
      "Optimizer stripped from runs\\detect\\train\\weights\\best.pt, 6.3MB\n",
      "\n",
      "Validating runs\\detect\\train\\weights\\best.pt...\n",
      "WARNING  validating an untrained model YAML will result in 0 mAP.\n",
      "Ultralytics 8.3.37  Python-3.12.6 torch-2.5.1+cu118 CUDA:0 (NVIDIA GeForce RTX 4060 Laptop GPU, 8188MiB)\n",
      "YOLOv8n summary (fused): 168 layers, 3,005,843 parameters, 0 gradients, 8.1 GFLOPs\n"
     ]
    },
    {
     "name": "stderr",
     "output_type": "stream",
     "text": [
      "                 Class     Images  Instances      Box(P          R      mAP50  mAP50-95): 100%|██████████| 8/8 [00:02<00:00,  3.03it/s]\n"
     ]
    },
    {
     "name": "stdout",
     "output_type": "stream",
     "text": [
      "                   all        230        257      0.942      0.953      0.977      0.717\n",
      "Speed: 0.3ms preprocess, 3.4ms inference, 0.0ms loss, 0.9ms postprocess per image\n",
      "Results saved to \u001b[1mruns\\detect\\train\u001b[0m\n"
     ]
    }
   ],
   "source": [
    "model = YOLO('yolov8n.yaml')  \n",
    "model = YOLO('yolov8n.pt')  \n",
    "model = YOLO('yolov8n.yaml').load('yolov8n.pt')  \n",
    "\n",
    "results = model.train(data='./datasets/data.yaml', epochs=100, patience=15, device=0) "
   ]
  },
  {
   "cell_type": "code",
   "execution_count": 12,
   "metadata": {},
   "outputs": [
    {
     "name": "stdout",
     "output_type": "stream",
     "text": [
      "\n",
      "\n",
      "WARNING  inference results will accumulate in RAM unless `stream=True` is passed, causing potential out-of-memory\n",
      "errors for large sources or long-running streams and videos. See https://docs.ultralytics.com/modes/predict/ for help.\n",
      "\n",
      "Example:\n",
      "    results = model(source=..., stream=True)  # generator of Results objects\n",
      "    for r in results:\n",
      "        boxes = r.boxes  # Boxes object for bbox outputs\n",
      "        masks = r.masks  # Masks object for segment masks outputs\n",
      "        probs = r.probs  # Class probabilities for classification outputs\n",
      "\n",
      "video 1/1 (frame 1/253) d:\\Grinding\\Machine Learning\\SCA\\sca-license-plate-detection\\sample\\VID_20241126_083840_2.mp4: 384x640 5 plat_nomors, 38.5ms\n",
      "video 1/1 (frame 2/253) d:\\Grinding\\Machine Learning\\SCA\\sca-license-plate-detection\\sample\\VID_20241126_083840_2.mp4: 384x640 4 plat_nomors, 19.1ms\n",
      "video 1/1 (frame 3/253) d:\\Grinding\\Machine Learning\\SCA\\sca-license-plate-detection\\sample\\VID_20241126_083840_2.mp4: 384x640 4 plat_nomors, 17.0ms\n",
      "video 1/1 (frame 4/253) d:\\Grinding\\Machine Learning\\SCA\\sca-license-plate-detection\\sample\\VID_20241126_083840_2.mp4: 384x640 4 plat_nomors, 17.0ms\n",
      "video 1/1 (frame 5/253) d:\\Grinding\\Machine Learning\\SCA\\sca-license-plate-detection\\sample\\VID_20241126_083840_2.mp4: 384x640 3 plat_nomors, 17.0ms\n",
      "video 1/1 (frame 6/253) d:\\Grinding\\Machine Learning\\SCA\\sca-license-plate-detection\\sample\\VID_20241126_083840_2.mp4: 384x640 3 plat_nomors, 16.5ms\n",
      "video 1/1 (frame 7/253) d:\\Grinding\\Machine Learning\\SCA\\sca-license-plate-detection\\sample\\VID_20241126_083840_2.mp4: 384x640 4 plat_nomors, 17.4ms\n",
      "video 1/1 (frame 8/253) d:\\Grinding\\Machine Learning\\SCA\\sca-license-plate-detection\\sample\\VID_20241126_083840_2.mp4: 384x640 3 plat_nomors, 17.2ms\n",
      "video 1/1 (frame 9/253) d:\\Grinding\\Machine Learning\\SCA\\sca-license-plate-detection\\sample\\VID_20241126_083840_2.mp4: 384x640 3 plat_nomors, 16.4ms\n",
      "video 1/1 (frame 10/253) d:\\Grinding\\Machine Learning\\SCA\\sca-license-plate-detection\\sample\\VID_20241126_083840_2.mp4: 384x640 4 plat_nomors, 16.5ms\n",
      "video 1/1 (frame 11/253) d:\\Grinding\\Machine Learning\\SCA\\sca-license-plate-detection\\sample\\VID_20241126_083840_2.mp4: 384x640 3 plat_nomors, 16.0ms\n",
      "video 1/1 (frame 12/253) d:\\Grinding\\Machine Learning\\SCA\\sca-license-plate-detection\\sample\\VID_20241126_083840_2.mp4: 384x640 3 plat_nomors, 16.5ms\n",
      "video 1/1 (frame 13/253) d:\\Grinding\\Machine Learning\\SCA\\sca-license-plate-detection\\sample\\VID_20241126_083840_2.mp4: 384x640 3 plat_nomors, 17.0ms\n",
      "video 1/1 (frame 14/253) d:\\Grinding\\Machine Learning\\SCA\\sca-license-plate-detection\\sample\\VID_20241126_083840_2.mp4: 384x640 3 plat_nomors, 16.5ms\n",
      "video 1/1 (frame 15/253) d:\\Grinding\\Machine Learning\\SCA\\sca-license-plate-detection\\sample\\VID_20241126_083840_2.mp4: 384x640 3 plat_nomors, 16.0ms\n",
      "video 1/1 (frame 16/253) d:\\Grinding\\Machine Learning\\SCA\\sca-license-plate-detection\\sample\\VID_20241126_083840_2.mp4: 384x640 3 plat_nomors, 17.5ms\n",
      "video 1/1 (frame 17/253) d:\\Grinding\\Machine Learning\\SCA\\sca-license-plate-detection\\sample\\VID_20241126_083840_2.mp4: 384x640 3 plat_nomors, 17.0ms\n",
      "video 1/1 (frame 18/253) d:\\Grinding\\Machine Learning\\SCA\\sca-license-plate-detection\\sample\\VID_20241126_083840_2.mp4: 384x640 3 plat_nomors, 16.5ms\n",
      "video 1/1 (frame 19/253) d:\\Grinding\\Machine Learning\\SCA\\sca-license-plate-detection\\sample\\VID_20241126_083840_2.mp4: 384x640 3 plat_nomors, 17.0ms\n",
      "video 1/1 (frame 20/253) d:\\Grinding\\Machine Learning\\SCA\\sca-license-plate-detection\\sample\\VID_20241126_083840_2.mp4: 384x640 3 plat_nomors, 17.5ms\n",
      "video 1/1 (frame 21/253) d:\\Grinding\\Machine Learning\\SCA\\sca-license-plate-detection\\sample\\VID_20241126_083840_2.mp4: 384x640 3 plat_nomors, 17.0ms\n",
      "video 1/1 (frame 22/253) d:\\Grinding\\Machine Learning\\SCA\\sca-license-plate-detection\\sample\\VID_20241126_083840_2.mp4: 384x640 3 plat_nomors, 16.6ms\n",
      "video 1/1 (frame 23/253) d:\\Grinding\\Machine Learning\\SCA\\sca-license-plate-detection\\sample\\VID_20241126_083840_2.mp4: 384x640 3 plat_nomors, 17.0ms\n",
      "video 1/1 (frame 24/253) d:\\Grinding\\Machine Learning\\SCA\\sca-license-plate-detection\\sample\\VID_20241126_083840_2.mp4: 384x640 3 plat_nomors, 17.3ms\n",
      "video 1/1 (frame 25/253) d:\\Grinding\\Machine Learning\\SCA\\sca-license-plate-detection\\sample\\VID_20241126_083840_2.mp4: 384x640 3 plat_nomors, 17.1ms\n",
      "video 1/1 (frame 26/253) d:\\Grinding\\Machine Learning\\SCA\\sca-license-plate-detection\\sample\\VID_20241126_083840_2.mp4: 384x640 3 plat_nomors, 16.0ms\n",
      "video 1/1 (frame 27/253) d:\\Grinding\\Machine Learning\\SCA\\sca-license-plate-detection\\sample\\VID_20241126_083840_2.mp4: 384x640 3 plat_nomors, 16.6ms\n",
      "video 1/1 (frame 28/253) d:\\Grinding\\Machine Learning\\SCA\\sca-license-plate-detection\\sample\\VID_20241126_083840_2.mp4: 384x640 3 plat_nomors, 16.8ms\n",
      "video 1/1 (frame 29/253) d:\\Grinding\\Machine Learning\\SCA\\sca-license-plate-detection\\sample\\VID_20241126_083840_2.mp4: 384x640 3 plat_nomors, 17.0ms\n",
      "video 1/1 (frame 30/253) d:\\Grinding\\Machine Learning\\SCA\\sca-license-plate-detection\\sample\\VID_20241126_083840_2.mp4: 384x640 3 plat_nomors, 16.3ms\n",
      "video 1/1 (frame 31/253) d:\\Grinding\\Machine Learning\\SCA\\sca-license-plate-detection\\sample\\VID_20241126_083840_2.mp4: 384x640 3 plat_nomors, 16.4ms\n",
      "video 1/1 (frame 32/253) d:\\Grinding\\Machine Learning\\SCA\\sca-license-plate-detection\\sample\\VID_20241126_083840_2.mp4: 384x640 3 plat_nomors, 17.0ms\n",
      "video 1/1 (frame 33/253) d:\\Grinding\\Machine Learning\\SCA\\sca-license-plate-detection\\sample\\VID_20241126_083840_2.mp4: 384x640 3 plat_nomors, 16.0ms\n",
      "video 1/1 (frame 34/253) d:\\Grinding\\Machine Learning\\SCA\\sca-license-plate-detection\\sample\\VID_20241126_083840_2.mp4: 384x640 3 plat_nomors, 16.4ms\n",
      "video 1/1 (frame 35/253) d:\\Grinding\\Machine Learning\\SCA\\sca-license-plate-detection\\sample\\VID_20241126_083840_2.mp4: 384x640 2 plat_nomors, 17.0ms\n",
      "video 1/1 (frame 36/253) d:\\Grinding\\Machine Learning\\SCA\\sca-license-plate-detection\\sample\\VID_20241126_083840_2.mp4: 384x640 3 plat_nomors, 17.1ms\n",
      "video 1/1 (frame 37/253) d:\\Grinding\\Machine Learning\\SCA\\sca-license-plate-detection\\sample\\VID_20241126_083840_2.mp4: 384x640 2 plat_nomors, 16.6ms\n",
      "video 1/1 (frame 38/253) d:\\Grinding\\Machine Learning\\SCA\\sca-license-plate-detection\\sample\\VID_20241126_083840_2.mp4: 384x640 3 plat_nomors, 16.0ms\n",
      "video 1/1 (frame 39/253) d:\\Grinding\\Machine Learning\\SCA\\sca-license-plate-detection\\sample\\VID_20241126_083840_2.mp4: 384x640 2 plat_nomors, 16.7ms\n",
      "video 1/1 (frame 40/253) d:\\Grinding\\Machine Learning\\SCA\\sca-license-plate-detection\\sample\\VID_20241126_083840_2.mp4: 384x640 3 plat_nomors, 16.6ms\n",
      "video 1/1 (frame 41/253) d:\\Grinding\\Machine Learning\\SCA\\sca-license-plate-detection\\sample\\VID_20241126_083840_2.mp4: 384x640 3 plat_nomors, 16.9ms\n",
      "video 1/1 (frame 42/253) d:\\Grinding\\Machine Learning\\SCA\\sca-license-plate-detection\\sample\\VID_20241126_083840_2.mp4: 384x640 3 plat_nomors, 16.0ms\n",
      "video 1/1 (frame 43/253) d:\\Grinding\\Machine Learning\\SCA\\sca-license-plate-detection\\sample\\VID_20241126_083840_2.mp4: 384x640 3 plat_nomors, 17.0ms\n",
      "video 1/1 (frame 44/253) d:\\Grinding\\Machine Learning\\SCA\\sca-license-plate-detection\\sample\\VID_20241126_083840_2.mp4: 384x640 3 plat_nomors, 17.0ms\n",
      "video 1/1 (frame 45/253) d:\\Grinding\\Machine Learning\\SCA\\sca-license-plate-detection\\sample\\VID_20241126_083840_2.mp4: 384x640 3 plat_nomors, 16.5ms\n",
      "video 1/1 (frame 46/253) d:\\Grinding\\Machine Learning\\SCA\\sca-license-plate-detection\\sample\\VID_20241126_083840_2.mp4: 384x640 2 plat_nomors, 17.0ms\n",
      "video 1/1 (frame 47/253) d:\\Grinding\\Machine Learning\\SCA\\sca-license-plate-detection\\sample\\VID_20241126_083840_2.mp4: 384x640 2 plat_nomors, 16.6ms\n",
      "video 1/1 (frame 48/253) d:\\Grinding\\Machine Learning\\SCA\\sca-license-plate-detection\\sample\\VID_20241126_083840_2.mp4: 384x640 2 plat_nomors, 16.0ms\n",
      "video 1/1 (frame 49/253) d:\\Grinding\\Machine Learning\\SCA\\sca-license-plate-detection\\sample\\VID_20241126_083840_2.mp4: 384x640 2 plat_nomors, 16.2ms\n",
      "video 1/1 (frame 50/253) d:\\Grinding\\Machine Learning\\SCA\\sca-license-plate-detection\\sample\\VID_20241126_083840_2.mp4: 384x640 3 plat_nomors, 16.0ms\n",
      "video 1/1 (frame 51/253) d:\\Grinding\\Machine Learning\\SCA\\sca-license-plate-detection\\sample\\VID_20241126_083840_2.mp4: 384x640 4 plat_nomors, 16.2ms\n",
      "video 1/1 (frame 52/253) d:\\Grinding\\Machine Learning\\SCA\\sca-license-plate-detection\\sample\\VID_20241126_083840_2.mp4: 384x640 3 plat_nomors, 16.2ms\n",
      "video 1/1 (frame 53/253) d:\\Grinding\\Machine Learning\\SCA\\sca-license-plate-detection\\sample\\VID_20241126_083840_2.mp4: 384x640 2 plat_nomors, 16.0ms\n",
      "video 1/1 (frame 54/253) d:\\Grinding\\Machine Learning\\SCA\\sca-license-plate-detection\\sample\\VID_20241126_083840_2.mp4: 384x640 2 plat_nomors, 16.0ms\n",
      "video 1/1 (frame 55/253) d:\\Grinding\\Machine Learning\\SCA\\sca-license-plate-detection\\sample\\VID_20241126_083840_2.mp4: 384x640 2 plat_nomors, 16.8ms\n",
      "video 1/1 (frame 56/253) d:\\Grinding\\Machine Learning\\SCA\\sca-license-plate-detection\\sample\\VID_20241126_083840_2.mp4: 384x640 2 plat_nomors, 16.4ms\n",
      "video 1/1 (frame 57/253) d:\\Grinding\\Machine Learning\\SCA\\sca-license-plate-detection\\sample\\VID_20241126_083840_2.mp4: 384x640 3 plat_nomors, 17.3ms\n",
      "video 1/1 (frame 58/253) d:\\Grinding\\Machine Learning\\SCA\\sca-license-plate-detection\\sample\\VID_20241126_083840_2.mp4: 384x640 2 plat_nomors, 17.0ms\n",
      "video 1/1 (frame 59/253) d:\\Grinding\\Machine Learning\\SCA\\sca-license-plate-detection\\sample\\VID_20241126_083840_2.mp4: 384x640 2 plat_nomors, 17.0ms\n",
      "video 1/1 (frame 60/253) d:\\Grinding\\Machine Learning\\SCA\\sca-license-plate-detection\\sample\\VID_20241126_083840_2.mp4: 384x640 2 plat_nomors, 17.0ms\n",
      "video 1/1 (frame 61/253) d:\\Grinding\\Machine Learning\\SCA\\sca-license-plate-detection\\sample\\VID_20241126_083840_2.mp4: 384x640 3 plat_nomors, 16.0ms\n",
      "video 1/1 (frame 62/253) d:\\Grinding\\Machine Learning\\SCA\\sca-license-plate-detection\\sample\\VID_20241126_083840_2.mp4: 384x640 2 plat_nomors, 18.5ms\n",
      "video 1/1 (frame 63/253) d:\\Grinding\\Machine Learning\\SCA\\sca-license-plate-detection\\sample\\VID_20241126_083840_2.mp4: 384x640 2 plat_nomors, 16.0ms\n",
      "video 1/1 (frame 64/253) d:\\Grinding\\Machine Learning\\SCA\\sca-license-plate-detection\\sample\\VID_20241126_083840_2.mp4: 384x640 2 plat_nomors, 16.4ms\n",
      "video 1/1 (frame 65/253) d:\\Grinding\\Machine Learning\\SCA\\sca-license-plate-detection\\sample\\VID_20241126_083840_2.mp4: 384x640 2 plat_nomors, 15.8ms\n",
      "video 1/1 (frame 66/253) d:\\Grinding\\Machine Learning\\SCA\\sca-license-plate-detection\\sample\\VID_20241126_083840_2.mp4: 384x640 2 plat_nomors, 16.5ms\n",
      "video 1/1 (frame 67/253) d:\\Grinding\\Machine Learning\\SCA\\sca-license-plate-detection\\sample\\VID_20241126_083840_2.mp4: 384x640 3 plat_nomors, 16.0ms\n",
      "video 1/1 (frame 68/253) d:\\Grinding\\Machine Learning\\SCA\\sca-license-plate-detection\\sample\\VID_20241126_083840_2.mp4: 384x640 2 plat_nomors, 17.0ms\n",
      "video 1/1 (frame 69/253) d:\\Grinding\\Machine Learning\\SCA\\sca-license-plate-detection\\sample\\VID_20241126_083840_2.mp4: 384x640 2 plat_nomors, 16.0ms\n",
      "video 1/1 (frame 70/253) d:\\Grinding\\Machine Learning\\SCA\\sca-license-plate-detection\\sample\\VID_20241126_083840_2.mp4: 384x640 2 plat_nomors, 16.7ms\n",
      "video 1/1 (frame 71/253) d:\\Grinding\\Machine Learning\\SCA\\sca-license-plate-detection\\sample\\VID_20241126_083840_2.mp4: 384x640 2 plat_nomors, 17.0ms\n",
      "video 1/1 (frame 72/253) d:\\Grinding\\Machine Learning\\SCA\\sca-license-plate-detection\\sample\\VID_20241126_083840_2.mp4: 384x640 2 plat_nomors, 16.5ms\n",
      "video 1/1 (frame 73/253) d:\\Grinding\\Machine Learning\\SCA\\sca-license-plate-detection\\sample\\VID_20241126_083840_2.mp4: 384x640 2 plat_nomors, 16.0ms\n",
      "video 1/1 (frame 74/253) d:\\Grinding\\Machine Learning\\SCA\\sca-license-plate-detection\\sample\\VID_20241126_083840_2.mp4: 384x640 2 plat_nomors, 17.8ms\n",
      "video 1/1 (frame 75/253) d:\\Grinding\\Machine Learning\\SCA\\sca-license-plate-detection\\sample\\VID_20241126_083840_2.mp4: 384x640 2 plat_nomors, 16.0ms\n",
      "video 1/1 (frame 76/253) d:\\Grinding\\Machine Learning\\SCA\\sca-license-plate-detection\\sample\\VID_20241126_083840_2.mp4: 384x640 3 plat_nomors, 16.6ms\n",
      "video 1/1 (frame 77/253) d:\\Grinding\\Machine Learning\\SCA\\sca-license-plate-detection\\sample\\VID_20241126_083840_2.mp4: 384x640 2 plat_nomors, 16.7ms\n",
      "video 1/1 (frame 78/253) d:\\Grinding\\Machine Learning\\SCA\\sca-license-plate-detection\\sample\\VID_20241126_083840_2.mp4: 384x640 3 plat_nomors, 17.0ms\n",
      "video 1/1 (frame 79/253) d:\\Grinding\\Machine Learning\\SCA\\sca-license-plate-detection\\sample\\VID_20241126_083840_2.mp4: 384x640 1 plat_nomor, 17.3ms\n",
      "video 1/1 (frame 80/253) d:\\Grinding\\Machine Learning\\SCA\\sca-license-plate-detection\\sample\\VID_20241126_083840_2.mp4: 384x640 1 plat_nomor, 16.6ms\n",
      "video 1/1 (frame 81/253) d:\\Grinding\\Machine Learning\\SCA\\sca-license-plate-detection\\sample\\VID_20241126_083840_2.mp4: 384x640 1 plat_nomor, 16.1ms\n",
      "video 1/1 (frame 82/253) d:\\Grinding\\Machine Learning\\SCA\\sca-license-plate-detection\\sample\\VID_20241126_083840_2.mp4: 384x640 2 plat_nomors, 17.3ms\n",
      "video 1/1 (frame 83/253) d:\\Grinding\\Machine Learning\\SCA\\sca-license-plate-detection\\sample\\VID_20241126_083840_2.mp4: 384x640 2 plat_nomors, 16.8ms\n",
      "video 1/1 (frame 84/253) d:\\Grinding\\Machine Learning\\SCA\\sca-license-plate-detection\\sample\\VID_20241126_083840_2.mp4: 384x640 2 plat_nomors, 17.5ms\n",
      "video 1/1 (frame 85/253) d:\\Grinding\\Machine Learning\\SCA\\sca-license-plate-detection\\sample\\VID_20241126_083840_2.mp4: 384x640 3 plat_nomors, 17.2ms\n",
      "video 1/1 (frame 86/253) d:\\Grinding\\Machine Learning\\SCA\\sca-license-plate-detection\\sample\\VID_20241126_083840_2.mp4: 384x640 4 plat_nomors, 17.0ms\n",
      "video 1/1 (frame 87/253) d:\\Grinding\\Machine Learning\\SCA\\sca-license-plate-detection\\sample\\VID_20241126_083840_2.mp4: 384x640 2 plat_nomors, 16.0ms\n",
      "video 1/1 (frame 88/253) d:\\Grinding\\Machine Learning\\SCA\\sca-license-plate-detection\\sample\\VID_20241126_083840_2.mp4: 384x640 1 plat_nomor, 17.0ms\n",
      "video 1/1 (frame 89/253) d:\\Grinding\\Machine Learning\\SCA\\sca-license-plate-detection\\sample\\VID_20241126_083840_2.mp4: 384x640 2 plat_nomors, 17.0ms\n",
      "video 1/1 (frame 90/253) d:\\Grinding\\Machine Learning\\SCA\\sca-license-plate-detection\\sample\\VID_20241126_083840_2.mp4: 384x640 1 plat_nomor, 17.4ms\n",
      "video 1/1 (frame 91/253) d:\\Grinding\\Machine Learning\\SCA\\sca-license-plate-detection\\sample\\VID_20241126_083840_2.mp4: 384x640 1 plat_nomor, 16.6ms\n",
      "video 1/1 (frame 92/253) d:\\Grinding\\Machine Learning\\SCA\\sca-license-plate-detection\\sample\\VID_20241126_083840_2.mp4: 384x640 1 plat_nomor, 17.0ms\n",
      "video 1/1 (frame 93/253) d:\\Grinding\\Machine Learning\\SCA\\sca-license-plate-detection\\sample\\VID_20241126_083840_2.mp4: 384x640 3 plat_nomors, 16.2ms\n",
      "video 1/1 (frame 94/253) d:\\Grinding\\Machine Learning\\SCA\\sca-license-plate-detection\\sample\\VID_20241126_083840_2.mp4: 384x640 3 plat_nomors, 17.0ms\n",
      "video 1/1 (frame 95/253) d:\\Grinding\\Machine Learning\\SCA\\sca-license-plate-detection\\sample\\VID_20241126_083840_2.mp4: 384x640 3 plat_nomors, 17.4ms\n",
      "video 1/1 (frame 96/253) d:\\Grinding\\Machine Learning\\SCA\\sca-license-plate-detection\\sample\\VID_20241126_083840_2.mp4: 384x640 3 plat_nomors, 16.8ms\n",
      "video 1/1 (frame 97/253) d:\\Grinding\\Machine Learning\\SCA\\sca-license-plate-detection\\sample\\VID_20241126_083840_2.mp4: 384x640 3 plat_nomors, 17.0ms\n",
      "video 1/1 (frame 98/253) d:\\Grinding\\Machine Learning\\SCA\\sca-license-plate-detection\\sample\\VID_20241126_083840_2.mp4: 384x640 3 plat_nomors, 16.2ms\n",
      "video 1/1 (frame 99/253) d:\\Grinding\\Machine Learning\\SCA\\sca-license-plate-detection\\sample\\VID_20241126_083840_2.mp4: 384x640 3 plat_nomors, 16.0ms\n",
      "video 1/1 (frame 100/253) d:\\Grinding\\Machine Learning\\SCA\\sca-license-plate-detection\\sample\\VID_20241126_083840_2.mp4: 384x640 4 plat_nomors, 17.0ms\n",
      "video 1/1 (frame 101/253) d:\\Grinding\\Machine Learning\\SCA\\sca-license-plate-detection\\sample\\VID_20241126_083840_2.mp4: 384x640 5 plat_nomors, 17.0ms\n",
      "video 1/1 (frame 102/253) d:\\Grinding\\Machine Learning\\SCA\\sca-license-plate-detection\\sample\\VID_20241126_083840_2.mp4: 384x640 5 plat_nomors, 17.0ms\n",
      "video 1/1 (frame 103/253) d:\\Grinding\\Machine Learning\\SCA\\sca-license-plate-detection\\sample\\VID_20241126_083840_2.mp4: 384x640 4 plat_nomors, 17.3ms\n",
      "video 1/1 (frame 104/253) d:\\Grinding\\Machine Learning\\SCA\\sca-license-plate-detection\\sample\\VID_20241126_083840_2.mp4: 384x640 3 plat_nomors, 16.5ms\n",
      "video 1/1 (frame 105/253) d:\\Grinding\\Machine Learning\\SCA\\sca-license-plate-detection\\sample\\VID_20241126_083840_2.mp4: 384x640 4 plat_nomors, 16.3ms\n",
      "video 1/1 (frame 106/253) d:\\Grinding\\Machine Learning\\SCA\\sca-license-plate-detection\\sample\\VID_20241126_083840_2.mp4: 384x640 4 plat_nomors, 15.5ms\n",
      "video 1/1 (frame 107/253) d:\\Grinding\\Machine Learning\\SCA\\sca-license-plate-detection\\sample\\VID_20241126_083840_2.mp4: 384x640 4 plat_nomors, 16.0ms\n",
      "video 1/1 (frame 108/253) d:\\Grinding\\Machine Learning\\SCA\\sca-license-plate-detection\\sample\\VID_20241126_083840_2.mp4: 384x640 4 plat_nomors, 15.8ms\n",
      "video 1/1 (frame 109/253) d:\\Grinding\\Machine Learning\\SCA\\sca-license-plate-detection\\sample\\VID_20241126_083840_2.mp4: 384x640 5 plat_nomors, 16.0ms\n",
      "video 1/1 (frame 110/253) d:\\Grinding\\Machine Learning\\SCA\\sca-license-plate-detection\\sample\\VID_20241126_083840_2.mp4: 384x640 5 plat_nomors, 16.5ms\n",
      "video 1/1 (frame 111/253) d:\\Grinding\\Machine Learning\\SCA\\sca-license-plate-detection\\sample\\VID_20241126_083840_2.mp4: 384x640 4 plat_nomors, 16.4ms\n",
      "video 1/1 (frame 112/253) d:\\Grinding\\Machine Learning\\SCA\\sca-license-plate-detection\\sample\\VID_20241126_083840_2.mp4: 384x640 5 plat_nomors, 17.0ms\n",
      "video 1/1 (frame 113/253) d:\\Grinding\\Machine Learning\\SCA\\sca-license-plate-detection\\sample\\VID_20241126_083840_2.mp4: 384x640 5 plat_nomors, 16.0ms\n",
      "video 1/1 (frame 114/253) d:\\Grinding\\Machine Learning\\SCA\\sca-license-plate-detection\\sample\\VID_20241126_083840_2.mp4: 384x640 4 plat_nomors, 16.0ms\n",
      "video 1/1 (frame 115/253) d:\\Grinding\\Machine Learning\\SCA\\sca-license-plate-detection\\sample\\VID_20241126_083840_2.mp4: 384x640 3 plat_nomors, 15.6ms\n",
      "video 1/1 (frame 116/253) d:\\Grinding\\Machine Learning\\SCA\\sca-license-plate-detection\\sample\\VID_20241126_083840_2.mp4: 384x640 4 plat_nomors, 16.2ms\n",
      "video 1/1 (frame 117/253) d:\\Grinding\\Machine Learning\\SCA\\sca-license-plate-detection\\sample\\VID_20241126_083840_2.mp4: 384x640 3 plat_nomors, 16.0ms\n",
      "video 1/1 (frame 118/253) d:\\Grinding\\Machine Learning\\SCA\\sca-license-plate-detection\\sample\\VID_20241126_083840_2.mp4: 384x640 4 plat_nomors, 15.5ms\n",
      "video 1/1 (frame 119/253) d:\\Grinding\\Machine Learning\\SCA\\sca-license-plate-detection\\sample\\VID_20241126_083840_2.mp4: 384x640 4 plat_nomors, 15.3ms\n",
      "video 1/1 (frame 120/253) d:\\Grinding\\Machine Learning\\SCA\\sca-license-plate-detection\\sample\\VID_20241126_083840_2.mp4: 384x640 4 plat_nomors, 15.5ms\n",
      "video 1/1 (frame 121/253) d:\\Grinding\\Machine Learning\\SCA\\sca-license-plate-detection\\sample\\VID_20241126_083840_2.mp4: 384x640 4 plat_nomors, 16.1ms\n",
      "video 1/1 (frame 122/253) d:\\Grinding\\Machine Learning\\SCA\\sca-license-plate-detection\\sample\\VID_20241126_083840_2.mp4: 384x640 3 plat_nomors, 15.5ms\n",
      "video 1/1 (frame 123/253) d:\\Grinding\\Machine Learning\\SCA\\sca-license-plate-detection\\sample\\VID_20241126_083840_2.mp4: 384x640 3 plat_nomors, 15.3ms\n",
      "video 1/1 (frame 124/253) d:\\Grinding\\Machine Learning\\SCA\\sca-license-plate-detection\\sample\\VID_20241126_083840_2.mp4: 384x640 4 plat_nomors, 15.5ms\n",
      "video 1/1 (frame 125/253) d:\\Grinding\\Machine Learning\\SCA\\sca-license-plate-detection\\sample\\VID_20241126_083840_2.mp4: 384x640 5 plat_nomors, 15.8ms\n",
      "video 1/1 (frame 126/253) d:\\Grinding\\Machine Learning\\SCA\\sca-license-plate-detection\\sample\\VID_20241126_083840_2.mp4: 384x640 4 plat_nomors, 16.0ms\n",
      "video 1/1 (frame 127/253) d:\\Grinding\\Machine Learning\\SCA\\sca-license-plate-detection\\sample\\VID_20241126_083840_2.mp4: 384x640 5 plat_nomors, 16.0ms\n",
      "video 1/1 (frame 128/253) d:\\Grinding\\Machine Learning\\SCA\\sca-license-plate-detection\\sample\\VID_20241126_083840_2.mp4: 384x640 5 plat_nomors, 15.0ms\n",
      "video 1/1 (frame 129/253) d:\\Grinding\\Machine Learning\\SCA\\sca-license-plate-detection\\sample\\VID_20241126_083840_2.mp4: 384x640 6 plat_nomors, 16.0ms\n",
      "video 1/1 (frame 130/253) d:\\Grinding\\Machine Learning\\SCA\\sca-license-plate-detection\\sample\\VID_20241126_083840_2.mp4: 384x640 6 plat_nomors, 16.0ms\n",
      "video 1/1 (frame 131/253) d:\\Grinding\\Machine Learning\\SCA\\sca-license-plate-detection\\sample\\VID_20241126_083840_2.mp4: 384x640 5 plat_nomors, 16.4ms\n",
      "video 1/1 (frame 132/253) d:\\Grinding\\Machine Learning\\SCA\\sca-license-plate-detection\\sample\\VID_20241126_083840_2.mp4: 384x640 6 plat_nomors, 16.1ms\n",
      "video 1/1 (frame 133/253) d:\\Grinding\\Machine Learning\\SCA\\sca-license-plate-detection\\sample\\VID_20241126_083840_2.mp4: 384x640 5 plat_nomors, 15.3ms\n",
      "video 1/1 (frame 134/253) d:\\Grinding\\Machine Learning\\SCA\\sca-license-plate-detection\\sample\\VID_20241126_083840_2.mp4: 384x640 4 plat_nomors, 15.8ms\n",
      "video 1/1 (frame 135/253) d:\\Grinding\\Machine Learning\\SCA\\sca-license-plate-detection\\sample\\VID_20241126_083840_2.mp4: 384x640 4 plat_nomors, 15.8ms\n",
      "video 1/1 (frame 136/253) d:\\Grinding\\Machine Learning\\SCA\\sca-license-plate-detection\\sample\\VID_20241126_083840_2.mp4: 384x640 3 plat_nomors, 15.8ms\n",
      "video 1/1 (frame 137/253) d:\\Grinding\\Machine Learning\\SCA\\sca-license-plate-detection\\sample\\VID_20241126_083840_2.mp4: 384x640 4 plat_nomors, 15.7ms\n",
      "video 1/1 (frame 138/253) d:\\Grinding\\Machine Learning\\SCA\\sca-license-plate-detection\\sample\\VID_20241126_083840_2.mp4: 384x640 5 plat_nomors, 16.2ms\n",
      "video 1/1 (frame 139/253) d:\\Grinding\\Machine Learning\\SCA\\sca-license-plate-detection\\sample\\VID_20241126_083840_2.mp4: 384x640 5 plat_nomors, 15.1ms\n",
      "video 1/1 (frame 140/253) d:\\Grinding\\Machine Learning\\SCA\\sca-license-plate-detection\\sample\\VID_20241126_083840_2.mp4: 384x640 4 plat_nomors, 17.0ms\n",
      "video 1/1 (frame 141/253) d:\\Grinding\\Machine Learning\\SCA\\sca-license-plate-detection\\sample\\VID_20241126_083840_2.mp4: 384x640 3 plat_nomors, 16.1ms\n",
      "video 1/1 (frame 142/253) d:\\Grinding\\Machine Learning\\SCA\\sca-license-plate-detection\\sample\\VID_20241126_083840_2.mp4: 384x640 3 plat_nomors, 16.3ms\n",
      "video 1/1 (frame 143/253) d:\\Grinding\\Machine Learning\\SCA\\sca-license-plate-detection\\sample\\VID_20241126_083840_2.mp4: 384x640 4 plat_nomors, 16.3ms\n",
      "video 1/1 (frame 144/253) d:\\Grinding\\Machine Learning\\SCA\\sca-license-plate-detection\\sample\\VID_20241126_083840_2.mp4: 384x640 4 plat_nomors, 16.0ms\n",
      "video 1/1 (frame 145/253) d:\\Grinding\\Machine Learning\\SCA\\sca-license-plate-detection\\sample\\VID_20241126_083840_2.mp4: 384x640 4 plat_nomors, 16.1ms\n",
      "video 1/1 (frame 146/253) d:\\Grinding\\Machine Learning\\SCA\\sca-license-plate-detection\\sample\\VID_20241126_083840_2.mp4: 384x640 4 plat_nomors, 16.0ms\n",
      "video 1/1 (frame 147/253) d:\\Grinding\\Machine Learning\\SCA\\sca-license-plate-detection\\sample\\VID_20241126_083840_2.mp4: 384x640 4 plat_nomors, 17.0ms\n",
      "video 1/1 (frame 148/253) d:\\Grinding\\Machine Learning\\SCA\\sca-license-plate-detection\\sample\\VID_20241126_083840_2.mp4: 384x640 4 plat_nomors, 17.0ms\n",
      "video 1/1 (frame 149/253) d:\\Grinding\\Machine Learning\\SCA\\sca-license-plate-detection\\sample\\VID_20241126_083840_2.mp4: 384x640 4 plat_nomors, 17.0ms\n",
      "video 1/1 (frame 150/253) d:\\Grinding\\Machine Learning\\SCA\\sca-license-plate-detection\\sample\\VID_20241126_083840_2.mp4: 384x640 4 plat_nomors, 15.8ms\n",
      "video 1/1 (frame 151/253) d:\\Grinding\\Machine Learning\\SCA\\sca-license-plate-detection\\sample\\VID_20241126_083840_2.mp4: 384x640 4 plat_nomors, 17.4ms\n",
      "video 1/1 (frame 152/253) d:\\Grinding\\Machine Learning\\SCA\\sca-license-plate-detection\\sample\\VID_20241126_083840_2.mp4: 384x640 4 plat_nomors, 16.3ms\n",
      "video 1/1 (frame 153/253) d:\\Grinding\\Machine Learning\\SCA\\sca-license-plate-detection\\sample\\VID_20241126_083840_2.mp4: 384x640 4 plat_nomors, 16.0ms\n",
      "video 1/1 (frame 154/253) d:\\Grinding\\Machine Learning\\SCA\\sca-license-plate-detection\\sample\\VID_20241126_083840_2.mp4: 384x640 3 plat_nomors, 16.0ms\n",
      "video 1/1 (frame 155/253) d:\\Grinding\\Machine Learning\\SCA\\sca-license-plate-detection\\sample\\VID_20241126_083840_2.mp4: 384x640 2 plat_nomors, 17.0ms\n",
      "video 1/1 (frame 156/253) d:\\Grinding\\Machine Learning\\SCA\\sca-license-plate-detection\\sample\\VID_20241126_083840_2.mp4: 384x640 2 plat_nomors, 17.0ms\n",
      "video 1/1 (frame 157/253) d:\\Grinding\\Machine Learning\\SCA\\sca-license-plate-detection\\sample\\VID_20241126_083840_2.mp4: 384x640 3 plat_nomors, 16.3ms\n",
      "video 1/1 (frame 158/253) d:\\Grinding\\Machine Learning\\SCA\\sca-license-plate-detection\\sample\\VID_20241126_083840_2.mp4: 384x640 3 plat_nomors, 16.0ms\n",
      "video 1/1 (frame 159/253) d:\\Grinding\\Machine Learning\\SCA\\sca-license-plate-detection\\sample\\VID_20241126_083840_2.mp4: 384x640 1 plat_nomor, 15.7ms\n",
      "video 1/1 (frame 160/253) d:\\Grinding\\Machine Learning\\SCA\\sca-license-plate-detection\\sample\\VID_20241126_083840_2.mp4: 384x640 4 plat_nomors, 15.9ms\n",
      "video 1/1 (frame 161/253) d:\\Grinding\\Machine Learning\\SCA\\sca-license-plate-detection\\sample\\VID_20241126_083840_2.mp4: 384x640 3 plat_nomors, 16.3ms\n",
      "video 1/1 (frame 162/253) d:\\Grinding\\Machine Learning\\SCA\\sca-license-plate-detection\\sample\\VID_20241126_083840_2.mp4: 384x640 4 plat_nomors, 17.0ms\n",
      "video 1/1 (frame 163/253) d:\\Grinding\\Machine Learning\\SCA\\sca-license-plate-detection\\sample\\VID_20241126_083840_2.mp4: 384x640 4 plat_nomors, 17.1ms\n",
      "video 1/1 (frame 164/253) d:\\Grinding\\Machine Learning\\SCA\\sca-license-plate-detection\\sample\\VID_20241126_083840_2.mp4: 384x640 4 plat_nomors, 17.2ms\n",
      "video 1/1 (frame 165/253) d:\\Grinding\\Machine Learning\\SCA\\sca-license-plate-detection\\sample\\VID_20241126_083840_2.mp4: 384x640 3 plat_nomors, 17.2ms\n",
      "video 1/1 (frame 166/253) d:\\Grinding\\Machine Learning\\SCA\\sca-license-plate-detection\\sample\\VID_20241126_083840_2.mp4: 384x640 4 plat_nomors, 16.8ms\n",
      "video 1/1 (frame 167/253) d:\\Grinding\\Machine Learning\\SCA\\sca-license-plate-detection\\sample\\VID_20241126_083840_2.mp4: 384x640 4 plat_nomors, 17.0ms\n",
      "video 1/1 (frame 168/253) d:\\Grinding\\Machine Learning\\SCA\\sca-license-plate-detection\\sample\\VID_20241126_083840_2.mp4: 384x640 4 plat_nomors, 16.3ms\n",
      "video 1/1 (frame 169/253) d:\\Grinding\\Machine Learning\\SCA\\sca-license-plate-detection\\sample\\VID_20241126_083840_2.mp4: 384x640 4 plat_nomors, 16.7ms\n",
      "video 1/1 (frame 170/253) d:\\Grinding\\Machine Learning\\SCA\\sca-license-plate-detection\\sample\\VID_20241126_083840_2.mp4: 384x640 4 plat_nomors, 17.9ms\n",
      "video 1/1 (frame 171/253) d:\\Grinding\\Machine Learning\\SCA\\sca-license-plate-detection\\sample\\VID_20241126_083840_2.mp4: 384x640 4 plat_nomors, 18.0ms\n",
      "video 1/1 (frame 172/253) d:\\Grinding\\Machine Learning\\SCA\\sca-license-plate-detection\\sample\\VID_20241126_083840_2.mp4: 384x640 4 plat_nomors, 17.0ms\n",
      "video 1/1 (frame 173/253) d:\\Grinding\\Machine Learning\\SCA\\sca-license-plate-detection\\sample\\VID_20241126_083840_2.mp4: 384x640 3 plat_nomors, 16.0ms\n",
      "video 1/1 (frame 174/253) d:\\Grinding\\Machine Learning\\SCA\\sca-license-plate-detection\\sample\\VID_20241126_083840_2.mp4: 384x640 3 plat_nomors, 16.6ms\n",
      "video 1/1 (frame 175/253) d:\\Grinding\\Machine Learning\\SCA\\sca-license-plate-detection\\sample\\VID_20241126_083840_2.mp4: 384x640 3 plat_nomors, 17.0ms\n",
      "video 1/1 (frame 176/253) d:\\Grinding\\Machine Learning\\SCA\\sca-license-plate-detection\\sample\\VID_20241126_083840_2.mp4: 384x640 3 plat_nomors, 16.0ms\n",
      "video 1/1 (frame 177/253) d:\\Grinding\\Machine Learning\\SCA\\sca-license-plate-detection\\sample\\VID_20241126_083840_2.mp4: 384x640 3 plat_nomors, 17.4ms\n",
      "video 1/1 (frame 178/253) d:\\Grinding\\Machine Learning\\SCA\\sca-license-plate-detection\\sample\\VID_20241126_083840_2.mp4: 384x640 3 plat_nomors, 17.0ms\n",
      "video 1/1 (frame 179/253) d:\\Grinding\\Machine Learning\\SCA\\sca-license-plate-detection\\sample\\VID_20241126_083840_2.mp4: 384x640 3 plat_nomors, 16.0ms\n",
      "video 1/1 (frame 180/253) d:\\Grinding\\Machine Learning\\SCA\\sca-license-plate-detection\\sample\\VID_20241126_083840_2.mp4: 384x640 3 plat_nomors, 17.0ms\n",
      "video 1/1 (frame 181/253) d:\\Grinding\\Machine Learning\\SCA\\sca-license-plate-detection\\sample\\VID_20241126_083840_2.mp4: 384x640 3 plat_nomors, 16.1ms\n",
      "video 1/1 (frame 182/253) d:\\Grinding\\Machine Learning\\SCA\\sca-license-plate-detection\\sample\\VID_20241126_083840_2.mp4: 384x640 3 plat_nomors, 17.0ms\n",
      "video 1/1 (frame 183/253) d:\\Grinding\\Machine Learning\\SCA\\sca-license-plate-detection\\sample\\VID_20241126_083840_2.mp4: 384x640 3 plat_nomors, 17.0ms\n",
      "video 1/1 (frame 184/253) d:\\Grinding\\Machine Learning\\SCA\\sca-license-plate-detection\\sample\\VID_20241126_083840_2.mp4: 384x640 3 plat_nomors, 17.4ms\n",
      "video 1/1 (frame 185/253) d:\\Grinding\\Machine Learning\\SCA\\sca-license-plate-detection\\sample\\VID_20241126_083840_2.mp4: 384x640 3 plat_nomors, 16.3ms\n",
      "video 1/1 (frame 186/253) d:\\Grinding\\Machine Learning\\SCA\\sca-license-plate-detection\\sample\\VID_20241126_083840_2.mp4: 384x640 3 plat_nomors, 17.0ms\n",
      "video 1/1 (frame 187/253) d:\\Grinding\\Machine Learning\\SCA\\sca-license-plate-detection\\sample\\VID_20241126_083840_2.mp4: 384x640 3 plat_nomors, 15.9ms\n",
      "video 1/1 (frame 188/253) d:\\Grinding\\Machine Learning\\SCA\\sca-license-plate-detection\\sample\\VID_20241126_083840_2.mp4: 384x640 3 plat_nomors, 16.2ms\n",
      "video 1/1 (frame 189/253) d:\\Grinding\\Machine Learning\\SCA\\sca-license-plate-detection\\sample\\VID_20241126_083840_2.mp4: 384x640 3 plat_nomors, 16.5ms\n",
      "video 1/1 (frame 190/253) d:\\Grinding\\Machine Learning\\SCA\\sca-license-plate-detection\\sample\\VID_20241126_083840_2.mp4: 384x640 3 plat_nomors, 16.0ms\n",
      "video 1/1 (frame 191/253) d:\\Grinding\\Machine Learning\\SCA\\sca-license-plate-detection\\sample\\VID_20241126_083840_2.mp4: 384x640 3 plat_nomors, 16.2ms\n",
      "video 1/1 (frame 192/253) d:\\Grinding\\Machine Learning\\SCA\\sca-license-plate-detection\\sample\\VID_20241126_083840_2.mp4: 384x640 3 plat_nomors, 16.0ms\n",
      "video 1/1 (frame 193/253) d:\\Grinding\\Machine Learning\\SCA\\sca-license-plate-detection\\sample\\VID_20241126_083840_2.mp4: 384x640 3 plat_nomors, 17.0ms\n",
      "video 1/1 (frame 194/253) d:\\Grinding\\Machine Learning\\SCA\\sca-license-plate-detection\\sample\\VID_20241126_083840_2.mp4: 384x640 3 plat_nomors, 16.8ms\n",
      "video 1/1 (frame 195/253) d:\\Grinding\\Machine Learning\\SCA\\sca-license-plate-detection\\sample\\VID_20241126_083840_2.mp4: 384x640 3 plat_nomors, 16.0ms\n",
      "video 1/1 (frame 196/253) d:\\Grinding\\Machine Learning\\SCA\\sca-license-plate-detection\\sample\\VID_20241126_083840_2.mp4: 384x640 3 plat_nomors, 15.7ms\n",
      "video 1/1 (frame 197/253) d:\\Grinding\\Machine Learning\\SCA\\sca-license-plate-detection\\sample\\VID_20241126_083840_2.mp4: 384x640 3 plat_nomors, 16.0ms\n",
      "video 1/1 (frame 198/253) d:\\Grinding\\Machine Learning\\SCA\\sca-license-plate-detection\\sample\\VID_20241126_083840_2.mp4: 384x640 3 plat_nomors, 16.9ms\n",
      "video 1/1 (frame 199/253) d:\\Grinding\\Machine Learning\\SCA\\sca-license-plate-detection\\sample\\VID_20241126_083840_2.mp4: 384x640 3 plat_nomors, 17.0ms\n",
      "video 1/1 (frame 200/253) d:\\Grinding\\Machine Learning\\SCA\\sca-license-plate-detection\\sample\\VID_20241126_083840_2.mp4: 384x640 3 plat_nomors, 17.0ms\n",
      "video 1/1 (frame 201/253) d:\\Grinding\\Machine Learning\\SCA\\sca-license-plate-detection\\sample\\VID_20241126_083840_2.mp4: 384x640 3 plat_nomors, 16.0ms\n",
      "video 1/1 (frame 202/253) d:\\Grinding\\Machine Learning\\SCA\\sca-license-plate-detection\\sample\\VID_20241126_083840_2.mp4: 384x640 3 plat_nomors, 16.9ms\n",
      "video 1/1 (frame 203/253) d:\\Grinding\\Machine Learning\\SCA\\sca-license-plate-detection\\sample\\VID_20241126_083840_2.mp4: 384x640 2 plat_nomors, 17.3ms\n",
      "video 1/1 (frame 204/253) d:\\Grinding\\Machine Learning\\SCA\\sca-license-plate-detection\\sample\\VID_20241126_083840_2.mp4: 384x640 3 plat_nomors, 18.0ms\n",
      "video 1/1 (frame 205/253) d:\\Grinding\\Machine Learning\\SCA\\sca-license-plate-detection\\sample\\VID_20241126_083840_2.mp4: 384x640 3 plat_nomors, 16.6ms\n",
      "video 1/1 (frame 206/253) d:\\Grinding\\Machine Learning\\SCA\\sca-license-plate-detection\\sample\\VID_20241126_083840_2.mp4: 384x640 3 plat_nomors, 16.7ms\n",
      "video 1/1 (frame 207/253) d:\\Grinding\\Machine Learning\\SCA\\sca-license-plate-detection\\sample\\VID_20241126_083840_2.mp4: 384x640 3 plat_nomors, 17.1ms\n",
      "video 1/1 (frame 208/253) d:\\Grinding\\Machine Learning\\SCA\\sca-license-plate-detection\\sample\\VID_20241126_083840_2.mp4: 384x640 3 plat_nomors, 16.0ms\n",
      "video 1/1 (frame 209/253) d:\\Grinding\\Machine Learning\\SCA\\sca-license-plate-detection\\sample\\VID_20241126_083840_2.mp4: 384x640 3 plat_nomors, 16.3ms\n",
      "video 1/1 (frame 210/253) d:\\Grinding\\Machine Learning\\SCA\\sca-license-plate-detection\\sample\\VID_20241126_083840_2.mp4: 384x640 3 plat_nomors, 16.8ms\n",
      "video 1/1 (frame 211/253) d:\\Grinding\\Machine Learning\\SCA\\sca-license-plate-detection\\sample\\VID_20241126_083840_2.mp4: 384x640 3 plat_nomors, 16.4ms\n",
      "video 1/1 (frame 212/253) d:\\Grinding\\Machine Learning\\SCA\\sca-license-plate-detection\\sample\\VID_20241126_083840_2.mp4: 384x640 3 plat_nomors, 17.2ms\n",
      "video 1/1 (frame 213/253) d:\\Grinding\\Machine Learning\\SCA\\sca-license-plate-detection\\sample\\VID_20241126_083840_2.mp4: 384x640 3 plat_nomors, 16.6ms\n",
      "video 1/1 (frame 214/253) d:\\Grinding\\Machine Learning\\SCA\\sca-license-plate-detection\\sample\\VID_20241126_083840_2.mp4: 384x640 3 plat_nomors, 16.4ms\n",
      "video 1/1 (frame 215/253) d:\\Grinding\\Machine Learning\\SCA\\sca-license-plate-detection\\sample\\VID_20241126_083840_2.mp4: 384x640 3 plat_nomors, 16.0ms\n",
      "video 1/1 (frame 216/253) d:\\Grinding\\Machine Learning\\SCA\\sca-license-plate-detection\\sample\\VID_20241126_083840_2.mp4: 384x640 3 plat_nomors, 16.3ms\n",
      "video 1/1 (frame 217/253) d:\\Grinding\\Machine Learning\\SCA\\sca-license-plate-detection\\sample\\VID_20241126_083840_2.mp4: 384x640 3 plat_nomors, 16.0ms\n",
      "video 1/1 (frame 218/253) d:\\Grinding\\Machine Learning\\SCA\\sca-license-plate-detection\\sample\\VID_20241126_083840_2.mp4: 384x640 3 plat_nomors, 17.0ms\n",
      "video 1/1 (frame 219/253) d:\\Grinding\\Machine Learning\\SCA\\sca-license-plate-detection\\sample\\VID_20241126_083840_2.mp4: 384x640 3 plat_nomors, 17.0ms\n",
      "video 1/1 (frame 220/253) d:\\Grinding\\Machine Learning\\SCA\\sca-license-plate-detection\\sample\\VID_20241126_083840_2.mp4: 384x640 3 plat_nomors, 17.0ms\n",
      "video 1/1 (frame 221/253) d:\\Grinding\\Machine Learning\\SCA\\sca-license-plate-detection\\sample\\VID_20241126_083840_2.mp4: 384x640 4 plat_nomors, 17.0ms\n",
      "video 1/1 (frame 222/253) d:\\Grinding\\Machine Learning\\SCA\\sca-license-plate-detection\\sample\\VID_20241126_083840_2.mp4: 384x640 3 plat_nomors, 16.0ms\n",
      "video 1/1 (frame 223/253) d:\\Grinding\\Machine Learning\\SCA\\sca-license-plate-detection\\sample\\VID_20241126_083840_2.mp4: 384x640 4 plat_nomors, 17.0ms\n",
      "video 1/1 (frame 224/253) d:\\Grinding\\Machine Learning\\SCA\\sca-license-plate-detection\\sample\\VID_20241126_083840_2.mp4: 384x640 3 plat_nomors, 17.0ms\n",
      "video 1/1 (frame 225/253) d:\\Grinding\\Machine Learning\\SCA\\sca-license-plate-detection\\sample\\VID_20241126_083840_2.mp4: 384x640 3 plat_nomors, 16.3ms\n",
      "video 1/1 (frame 226/253) d:\\Grinding\\Machine Learning\\SCA\\sca-license-plate-detection\\sample\\VID_20241126_083840_2.mp4: 384x640 3 plat_nomors, 17.5ms\n",
      "video 1/1 (frame 227/253) d:\\Grinding\\Machine Learning\\SCA\\sca-license-plate-detection\\sample\\VID_20241126_083840_2.mp4: 384x640 3 plat_nomors, 16.0ms\n",
      "video 1/1 (frame 228/253) d:\\Grinding\\Machine Learning\\SCA\\sca-license-plate-detection\\sample\\VID_20241126_083840_2.mp4: 384x640 4 plat_nomors, 16.1ms\n",
      "video 1/1 (frame 229/253) d:\\Grinding\\Machine Learning\\SCA\\sca-license-plate-detection\\sample\\VID_20241126_083840_2.mp4: 384x640 3 plat_nomors, 17.2ms\n",
      "video 1/1 (frame 230/253) d:\\Grinding\\Machine Learning\\SCA\\sca-license-plate-detection\\sample\\VID_20241126_083840_2.mp4: 384x640 3 plat_nomors, 17.0ms\n",
      "video 1/1 (frame 231/253) d:\\Grinding\\Machine Learning\\SCA\\sca-license-plate-detection\\sample\\VID_20241126_083840_2.mp4: 384x640 4 plat_nomors, 16.7ms\n",
      "video 1/1 (frame 232/253) d:\\Grinding\\Machine Learning\\SCA\\sca-license-plate-detection\\sample\\VID_20241126_083840_2.mp4: 384x640 3 plat_nomors, 16.0ms\n",
      "video 1/1 (frame 233/253) d:\\Grinding\\Machine Learning\\SCA\\sca-license-plate-detection\\sample\\VID_20241126_083840_2.mp4: 384x640 3 plat_nomors, 16.0ms\n",
      "video 1/1 (frame 234/253) d:\\Grinding\\Machine Learning\\SCA\\sca-license-plate-detection\\sample\\VID_20241126_083840_2.mp4: 384x640 3 plat_nomors, 16.0ms\n",
      "video 1/1 (frame 235/253) d:\\Grinding\\Machine Learning\\SCA\\sca-license-plate-detection\\sample\\VID_20241126_083840_2.mp4: 384x640 4 plat_nomors, 16.5ms\n",
      "video 1/1 (frame 236/253) d:\\Grinding\\Machine Learning\\SCA\\sca-license-plate-detection\\sample\\VID_20241126_083840_2.mp4: 384x640 4 plat_nomors, 16.0ms\n",
      "video 1/1 (frame 237/253) d:\\Grinding\\Machine Learning\\SCA\\sca-license-plate-detection\\sample\\VID_20241126_083840_2.mp4: 384x640 3 plat_nomors, 16.5ms\n",
      "video 1/1 (frame 238/253) d:\\Grinding\\Machine Learning\\SCA\\sca-license-plate-detection\\sample\\VID_20241126_083840_2.mp4: 384x640 3 plat_nomors, 15.0ms\n",
      "video 1/1 (frame 239/253) d:\\Grinding\\Machine Learning\\SCA\\sca-license-plate-detection\\sample\\VID_20241126_083840_2.mp4: 384x640 3 plat_nomors, 15.0ms\n",
      "video 1/1 (frame 240/253) d:\\Grinding\\Machine Learning\\SCA\\sca-license-plate-detection\\sample\\VID_20241126_083840_2.mp4: 384x640 3 plat_nomors, 15.0ms\n",
      "video 1/1 (frame 241/253) d:\\Grinding\\Machine Learning\\SCA\\sca-license-plate-detection\\sample\\VID_20241126_083840_2.mp4: 384x640 3 plat_nomors, 14.1ms\n",
      "video 1/1 (frame 242/253) d:\\Grinding\\Machine Learning\\SCA\\sca-license-plate-detection\\sample\\VID_20241126_083840_2.mp4: 384x640 3 plat_nomors, 15.0ms\n",
      "video 1/1 (frame 243/253) d:\\Grinding\\Machine Learning\\SCA\\sca-license-plate-detection\\sample\\VID_20241126_083840_2.mp4: 384x640 4 plat_nomors, 14.1ms\n",
      "video 1/1 (frame 244/253) d:\\Grinding\\Machine Learning\\SCA\\sca-license-plate-detection\\sample\\VID_20241126_083840_2.mp4: 384x640 4 plat_nomors, 14.5ms\n",
      "video 1/1 (frame 245/253) d:\\Grinding\\Machine Learning\\SCA\\sca-license-plate-detection\\sample\\VID_20241126_083840_2.mp4: 384x640 3 plat_nomors, 15.0ms\n",
      "video 1/1 (frame 246/253) d:\\Grinding\\Machine Learning\\SCA\\sca-license-plate-detection\\sample\\VID_20241126_083840_2.mp4: 384x640 3 plat_nomors, 15.5ms\n",
      "video 1/1 (frame 247/253) d:\\Grinding\\Machine Learning\\SCA\\sca-license-plate-detection\\sample\\VID_20241126_083840_2.mp4: 384x640 3 plat_nomors, 14.0ms\n",
      "video 1/1 (frame 248/253) d:\\Grinding\\Machine Learning\\SCA\\sca-license-plate-detection\\sample\\VID_20241126_083840_2.mp4: 384x640 3 plat_nomors, 14.1ms\n",
      "video 1/1 (frame 249/253) d:\\Grinding\\Machine Learning\\SCA\\sca-license-plate-detection\\sample\\VID_20241126_083840_2.mp4: 384x640 4 plat_nomors, 14.3ms\n",
      "video 1/1 (frame 250/253) d:\\Grinding\\Machine Learning\\SCA\\sca-license-plate-detection\\sample\\VID_20241126_083840_2.mp4: 384x640 3 plat_nomors, 15.0ms\n",
      "video 1/1 (frame 251/253) d:\\Grinding\\Machine Learning\\SCA\\sca-license-plate-detection\\sample\\VID_20241126_083840_2.mp4: 384x640 4 plat_nomors, 14.0ms\n",
      "video 1/1 (frame 252/253) d:\\Grinding\\Machine Learning\\SCA\\sca-license-plate-detection\\sample\\VID_20241126_083840_2.mp4: 384x640 4 plat_nomors, 14.0ms\n",
      "video 1/1 (frame 253/253) d:\\Grinding\\Machine Learning\\SCA\\sca-license-plate-detection\\sample\\VID_20241126_083840_2.mp4: 384x640 3 plat_nomors, 15.0ms\n",
      "Speed: 3.2ms preprocess, 16.5ms inference, 1.7ms postprocess per image at shape (1, 3, 384, 640)\n",
      "Results saved to \u001b[1mruns\\detect\\predict\u001b[0m\n"
     ]
    }
   ],
   "source": [
    "video_path = './sample/VID_20241126_083840_2.mp4'\n",
    "\n",
    "output_dir = 'runs/detect'\n",
    "\n",
    "model.to('cuda')\n",
    "\n",
    "results = model.predict(source=video_path, save=True, project=output_dir, name='predict')\n"
   ]
  }
 ],
 "metadata": {
  "kernelspec": {
   "display_name": ".sca-license-plate-detection-2-venv",
   "language": "python",
   "name": "python3"
  },
  "language_info": {
   "codemirror_mode": {
    "name": "ipython",
    "version": 3
   },
   "file_extension": ".py",
   "mimetype": "text/x-python",
   "name": "python",
   "nbconvert_exporter": "python",
   "pygments_lexer": "ipython3",
   "version": "3.12.6"
  }
 },
 "nbformat": 4,
 "nbformat_minor": 2
}
